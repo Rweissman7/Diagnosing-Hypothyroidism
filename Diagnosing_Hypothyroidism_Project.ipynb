{
  "nbformat": 4,
  "nbformat_minor": 0,
  "metadata": {
    "colab": {
      "provenance": [],
      "include_colab_link": true
    },
    "kernelspec": {
      "name": "python3",
      "display_name": "Python 3"
    },
    "language_info": {
      "name": "python"
    }
  },
  "cells": [
    {
      "cell_type": "markdown",
      "metadata": {
        "id": "view-in-github",
        "colab_type": "text"
      },
      "source": [
        "<a href=\"https://colab.research.google.com/github/Rweissman7/Diagnosing-Hypothyroidism/blob/main/Copy3_Healthcare_Final_Project.ipynb\" target=\"_parent\"><img src=\"https://colab.research.google.com/assets/colab-badge.svg\" alt=\"Open In Colab\"/></a>"
      ]
    },
    {
      "cell_type": "code",
      "execution_count": null,
      "metadata": {
        "colab": {
          "base_uri": "https://localhost:8080/"
        },
        "id": "fK90_KbZo3MI",
        "outputId": "33a54002-077e-41af-dc75-10a412aa9d9a"
      },
      "outputs": [
        {
          "output_type": "stream",
          "name": "stdout",
          "text": [
            "Drive already mounted at /content/drive; to attempt to forcibly remount, call drive.mount(\"/content/drive\", force_remount=True).\n"
          ]
        }
      ],
      "source": [
        "#connecting google colab to google drive\n",
        "from google.colab import drive\n",
        "drive.mount('/content/drive')"
      ]
    },
    {
      "cell_type": "code",
      "source": [
        "#import pandas and scikit-learn\n",
        "import pandas as pd\n",
        "import numpy as np\n",
        "import sklearn\n"
      ],
      "metadata": {
        "id": "tO1fBuHdo9MY"
      },
      "execution_count": null,
      "outputs": []
    },
    {
      "cell_type": "code",
      "source": [
        "#google colab finding necessary files\n",
        "!cp drive/MyDrive/labevents.csv.gz ./\n",
        "!cp drive/MyDrive/omr.csv.gz ./\n",
        "!cp drive/MyDrive/diagnoses_icd.csv.gz ./\n",
        "!cp drive/MyDrive/d_labitems.csv.gz ./"
      ],
      "metadata": {
        "id": "0bY7NYoKpACo"
      },
      "execution_count": null,
      "outputs": []
    },
    {
      "cell_type": "code",
      "source": [
        "#load necessary tables\n",
        "omr= pd.read_csv('omr.csv.gz',compression='gzip')\n",
        "diagnoses = pd.read_csv('diagnoses_icd.csv.gz',compression='gzip')\n",
        "lab_items = pd.read_csv('d_labitems.csv.gz',compression='gzip')"
      ],
      "metadata": {
        "id": "3OU6B8TmpC73"
      },
      "execution_count": null,
      "outputs": []
    },
    {
      "cell_type": "code",
      "source": [
        "#checking diagnoses table\n",
        "print(diagnoses.head())"
      ],
      "metadata": {
        "id": "33nymhR7rY0j",
        "colab": {
          "base_uri": "https://localhost:8080/"
        },
        "outputId": "0b170b2f-57ae-4635-a6c4-67ad2400cb56"
      },
      "execution_count": null,
      "outputs": [
        {
          "output_type": "stream",
          "name": "stdout",
          "text": [
            "   subject_id   hadm_id  seq_num icd_code  icd_version\n",
            "0    10000032  22595853        1     5723            9\n",
            "1    10000032  22595853        2    78959            9\n",
            "2    10000032  22595853        3     5715            9\n",
            "3    10000032  22595853        4    07070            9\n",
            "4    10000032  22595853        5      496            9\n"
          ]
        }
      ]
    },
    {
      "cell_type": "markdown",
      "source": [
        "misdiagnosed - https://www.medicalnewstoday.com/articles/266780#diagnosis\n",
        "\n",
        "**hypothyroidism - 244.8, 244.9 **\n",
        "\n",
        "*   anxiety - 300.00, 300.01, 300.02, 300.09\n",
        "*   bipolar disorder-cyclothymia - 301.13\n",
        "*   iron deficiency - 280.1, 280.8, 280.9\n",
        "*   chronic fatigue syndrome - 780.71\n",
        "*   fibromyalgia - 729.1\n",
        "*   depression 311\n"
      ],
      "metadata": {
        "id": "VCZX4Hv7rgKa"
      }
    },
    {
      "cell_type": "code",
      "source": [
        "#list of codes that we want to analyze\n",
        "codes_list = ['2448', '2449', '30000', '30001', '30002', '30009', '30113','2801', '2808', '2809', '78071','7291','311']\n",
        "#filter diagnoses table for codes on our list\n",
        "diagnoses_filtered = diagnoses[diagnoses['icd_code'].isin(codes_list)]\n",
        "#validate that have all of them\n",
        "print(diagnoses_filtered['icd_code'].unique())"
      ],
      "metadata": {
        "id": "rXxa4pNGrpMj",
        "colab": {
          "base_uri": "https://localhost:8080/"
        },
        "outputId": "a8ad77a2-1af4-49aa-ca4e-d6fcef9fb5e4"
      },
      "execution_count": null,
      "outputs": [
        {
          "output_type": "stream",
          "name": "stdout",
          "text": [
            "['30000' '311' '2449' '7291' '2809' '30001' '30009' '30002' '2448' '2808'\n",
            " '78071' '30113' '2801']\n"
          ]
        }
      ]
    },
    {
      "cell_type": "code",
      "source": [
        "#make list of all subject id's selected to use for filtering other tables\n",
        "subject_id_list = diagnoses_filtered['subject_id']\n",
        "print(subject_id_list.shape)"
      ],
      "metadata": {
        "id": "rr4gybtNjRbu",
        "colab": {
          "base_uri": "https://localhost:8080/"
        },
        "outputId": "735567e7-a3d8-4db1-b042-aad5d087bc32"
      },
      "execution_count": null,
      "outputs": [
        {
          "output_type": "stream",
          "name": "stdout",
          "text": [
            "(96280,)\n"
          ]
        }
      ]
    },
    {
      "cell_type": "code",
      "source": [
        "#bar chart show how many imputs there are for each icd code\n",
        "import matplotlib.pyplot as plt\n",
        "import seaborn as sns\n",
        "sns.countplot(diagnoses_filtered, x= 'icd_code')\n",
        "plt.xticks(rotation=45)\n",
        "plt.show()"
      ],
      "metadata": {
        "id": "C9PGya_73TuY",
        "colab": {
          "base_uri": "https://localhost:8080/",
          "height": 477
        },
        "outputId": "1e545f7a-2d92-4c0f-b822-3109dbdacc24"
      },
      "execution_count": null,
      "outputs": [
        {
          "output_type": "display_data",
          "data": {
            "text/plain": [
              "<Figure size 640x480 with 1 Axes>"
            ],
            "image/png": "[encoded data removed]"
          },
          "metadata": {}
        }
      ]
    },
    {
      "cell_type": "code",
      "source": [
        "#group by each condition\n",
        "diagnoses_filtered.loc[diagnoses_filtered['icd_code'].isin(['2448', '2449']),'condition'] = 'hypothyroidism'\n",
        "diagnoses_filtered.loc[diagnoses_filtered['icd_code'].isin(['30000', '30001', '30002', '30009']),'condition'] = 'anxiety'\n",
        "diagnoses_filtered.loc[diagnoses_filtered['icd_code'].isin(['30113']),'condition'] = 'cyclothymia'\n",
        "diagnoses_filtered.loc[diagnoses_filtered['icd_code'].isin(['2801', '2808', '2809']),'condition'] = 'iron deficiency'\n",
        "diagnoses_filtered.loc[diagnoses_filtered['icd_code'].isin(['78071']),'condition'] = 'chronic fatigue syndrome'\n",
        "diagnoses_filtered.loc[diagnoses_filtered['icd_code'].isin(['7291']),'condition'] = 'fibromyalgia'\n",
        "diagnoses_filtered.loc[diagnoses_filtered['icd_code'].isin(['311']),'condition'] = 'depression'\n",
        "print(diagnoses_filtered['condition'].unique())\n",
        "print(diagnoses_filtered.head())"
      ],
      "metadata": {
        "id": "zkrArVBI3Vxg",
        "colab": {
          "base_uri": "https://localhost:8080/"
        },
        "outputId": "239d7a47-568c-4707-c3fe-63c7c6a3c9e5"
      },
      "execution_count": null,
      "outputs": [
        {
          "output_type": "stream",
          "name": "stdout",
          "text": [
            "['anxiety' 'depression' 'hypothyroidism' 'fibromyalgia' 'iron deficiency'\n",
            " 'chronic fatigue syndrome' 'cyclothymia']\n",
            "     subject_id   hadm_id  seq_num icd_code  icd_version   condition\n",
            "126    10000826  20032235       14    30000            9     anxiety\n",
            "145    10000883  25221576        2    30000            9     anxiety\n",
            "147    10000883  29957930        2    30000            9     anxiety\n",
            "159    10000935  21738619        9      311            9  depression\n",
            "179    10000935  25849114       10      311            9  depression\n"
          ]
        },
        {
          "output_type": "stream",
          "name": "stderr",
          "text": [
            "<ipython-input-9-9ccac45162a8>:2: SettingWithCopyWarning: \n",
            "A value is trying to be set on a copy of a slice from a DataFrame.\n",
            "Try using .loc[row_indexer,col_indexer] = value instead\n",
            "\n",
            "See the caveats in the documentation: https://pandas.pydata.org/pandas-docs/stable/user_guide/indexing.html#returning-a-view-versus-a-copy\n",
            "  diagnoses_filtered.loc[diagnoses_filtered['icd_code'].isin(['2448', '2449']),'condition'] = 'hypothyroidism'\n"
          ]
        }
      ]
    },
    {
      "cell_type": "code",
      "source": [
        "#table of the amount of times each condition is documented\n",
        "sns.countplot(diagnoses_filtered, y= 'condition')\n",
        "plt.show()"
      ],
      "metadata": {
        "id": "uGXM3jqF7aT-",
        "colab": {
          "base_uri": "https://localhost:8080/",
          "height": 449
        },
        "outputId": "edcaeba6-e96f-486e-fda3-2aa0bf639957"
      },
      "execution_count": null,
      "outputs": [
        {
          "output_type": "display_data",
          "data": {
            "text/plain": [
              "<Figure size 640x480 with 1 Axes>"
            ],
            "image/png": "[encoded data removed]"
          },
          "metadata": {}
        }
      ]
    },
    {
      "cell_type": "code",
      "source": [
        "#since in the table above cfs and cyclothymia have very few  this is the exact count\n",
        "cfs = diagnoses_filtered[diagnoses_filtered['condition']=='chronic fatigue syndrome']\n",
        "cyclothymia = diagnoses_filtered[diagnoses_filtered['condition']=='cyclothymia']\n",
        "print(len(cfs))\n",
        "print(len(cyclothymia))\n",
        "#might not be worth it to use the data for cyclothymia since it is so low compared to the others"
      ],
      "metadata": {
        "id": "revpTHRR7dNQ",
        "colab": {
          "base_uri": "https://localhost:8080/"
        },
        "outputId": "731a41ca-479d-431e-a760-eb49e0a8b055"
      },
      "execution_count": null,
      "outputs": [
        {
          "output_type": "stream",
          "name": "stdout",
          "text": [
            "115\n",
            "6\n"
          ]
        }
      ]
    },
    {
      "cell_type": "code",
      "source": [
        "#check what lab items table looks like\n",
        "print(lab_items.head())\n",
        "print(len(lab_items))\n",
        "print(lab_items['category'].unique())\n",
        "print(lab_items['label'].nunique())\n",
        "print(lab_items['label'].unique())\n",
        "print(lab_items['fluid'].unique())"
      ],
      "metadata": {
        "id": "lcCtKfyxjifn",
        "colab": {
          "base_uri": "https://localhost:8080/"
        },
        "outputId": "5163fae2-7315-4d7e-8a64-1416772d9d1a"
      },
      "execution_count": null,
      "outputs": [
        {
          "output_type": "stream",
          "name": "stdout",
          "text": [
            "   itemid                                label  fluid   category\n",
            "0   50801           Alveolar-arterial Gradient  Blood  Blood Gas\n",
            "1   50802                          Base Excess  Blood  Blood Gas\n",
            "2   50803  Calculated Bicarbonate, Whole Blood  Blood  Blood Gas\n",
            "3   50804                 Calculated Total CO2  Blood  Blood Gas\n",
            "4   50805                    Carboxyhemoglobin  Blood  Blood Gas\n",
            "1622\n",
            "['Blood Gas' 'Chemistry' 'Hematology']\n",
            "1170\n",
            "['Alveolar-arterial Gradient' 'Base Excess'\n",
            " 'Calculated Bicarbonate, Whole Blood' ... 'Anti-la' 'HIV FINAL'\n",
            " 'HIV Screen']\n",
            "['Blood' 'Other Body Fluid' 'Ascites' 'Joint Fluid' 'Pleural' 'Stool'\n",
            " 'Urine' 'Bone Marrow' 'Cerebrospinal Fluid' 'Fluid' 'I' 'Q']\n"
          ]
        }
      ]
    },
    {
      "cell_type": "code",
      "source": [
        "# Create a TextFileReader object by reading the CSV file in chunks\n",
        "#10 chunks worked when reduced to 5 it crashed\n",
        "labs_reader = pd.read_csv('labevents.csv.gz', compression='gzip', chunksize=11820000)"
      ],
      "metadata": {
        "id": "_WviFeKDjqoN"
      },
      "execution_count": null,
      "outputs": []
    },
    {
      "cell_type": "markdown",
      "source": [
        "Just working on first chunk now. In end might save each one to seperate csv files and combine the filtered version so it dosen't crash."
      ],
      "metadata": {
        "id": "Dt-sowGhj1OI"
      }
    },
    {
      "cell_type": "code",
      "source": [
        "#name chunk that will be used in this data testing\n",
        "chunk1 = next(labs_reader)\n",
        "print(chunk1.head())"
      ],
      "metadata": {
        "id": "RaOfRomSj52W",
        "colab": {
          "base_uri": "https://localhost:8080/"
        },
        "outputId": "e2f2a085-99cc-4bdf-bc74-7dfc15341cf5"
      },
      "execution_count": null,
      "outputs": [
        {
          "output_type": "stream",
          "name": "stdout",
          "text": [
            "   labevent_id  subject_id  hadm_id  specimen_id  itemid order_provider_id  \\\n",
            "0            1    10000032      NaN     45421181   51237            P28Z0X   \n",
            "1            2    10000032      NaN     45421181   51274            P28Z0X   \n",
            "2            3    10000032      NaN     52958335   50853            P28Z0X   \n",
            "3            4    10000032      NaN     52958335   50861            P28Z0X   \n",
            "4            5    10000032      NaN     52958335   50862            P28Z0X   \n",
            "\n",
            "             charttime            storetime value  valuenum valueuom  \\\n",
            "0  2180-03-23 11:51:00  2180-03-23 15:15:00   1.4       1.4      NaN   \n",
            "1  2180-03-23 11:51:00  2180-03-23 15:15:00   ___      15.1      sec   \n",
            "2  2180-03-23 11:51:00  2180-03-25 11:06:00   ___      15.0    ng/mL   \n",
            "3  2180-03-23 11:51:00  2180-03-23 16:40:00   102     102.0     IU/L   \n",
            "4  2180-03-23 11:51:00  2180-03-23 16:40:00   3.3       3.3     g/dL   \n",
            "\n",
            "   ref_range_lower  ref_range_upper      flag priority  \\\n",
            "0              0.9              1.1  abnormal  ROUTINE   \n",
            "1              9.4             12.5  abnormal  ROUTINE   \n",
            "2             30.0             60.0  abnormal  ROUTINE   \n",
            "3              0.0             40.0  abnormal  ROUTINE   \n",
            "4              3.5              5.2  abnormal  ROUTINE   \n",
            "\n",
            "                                            comments  \n",
            "0                                                NaN  \n",
            "1                                          VERIFIED.  \n",
            "2  NEW ASSAY IN USE ___: DETECTS D2 AND D3 25-OH ...  \n",
            "3                                                NaN  \n",
            "4                                                NaN  \n"
          ]
        }
      ]
    },
    {
      "cell_type": "code",
      "source": [
        "#merge chunk with lab item table\n",
        "first_chunk_merg = pd.merge(chunk1, lab_items, on='itemid', how='left')\n",
        "print(first_chunk_merg.head())"
      ],
      "metadata": {
        "id": "v0j6Rr9LkET9",
        "colab": {
          "base_uri": "https://localhost:8080/"
        },
        "outputId": "1724b67f-918c-4c5f-c897-689685a9ae98"
      },
      "execution_count": null,
      "outputs": [
        {
          "output_type": "stream",
          "name": "stdout",
          "text": [
            "   labevent_id  subject_id  hadm_id  specimen_id  itemid order_provider_id  \\\n",
            "0            1    10000032      NaN     45421181   51237            P28Z0X   \n",
            "1            2    10000032      NaN     45421181   51274            P28Z0X   \n",
            "2            3    10000032      NaN     52958335   50853            P28Z0X   \n",
            "3            4    10000032      NaN     52958335   50861            P28Z0X   \n",
            "4            5    10000032      NaN     52958335   50862            P28Z0X   \n",
            "\n",
            "             charttime            storetime value  valuenum valueuom  \\\n",
            "0  2180-03-23 11:51:00  2180-03-23 15:15:00   1.4       1.4      NaN   \n",
            "1  2180-03-23 11:51:00  2180-03-23 15:15:00   ___      15.1      sec   \n",
            "2  2180-03-23 11:51:00  2180-03-25 11:06:00   ___      15.0    ng/mL   \n",
            "3  2180-03-23 11:51:00  2180-03-23 16:40:00   102     102.0     IU/L   \n",
            "4  2180-03-23 11:51:00  2180-03-23 16:40:00   3.3       3.3     g/dL   \n",
            "\n",
            "   ref_range_lower  ref_range_upper      flag priority  \\\n",
            "0              0.9              1.1  abnormal  ROUTINE   \n",
            "1              9.4             12.5  abnormal  ROUTINE   \n",
            "2             30.0             60.0  abnormal  ROUTINE   \n",
            "3              0.0             40.0  abnormal  ROUTINE   \n",
            "4              3.5              5.2  abnormal  ROUTINE   \n",
            "\n",
            "                                            comments  \\\n",
            "0                                                NaN   \n",
            "1                                          VERIFIED.   \n",
            "2  NEW ASSAY IN USE ___: DETECTS D2 AND D3 25-OH ...   \n",
            "3                                                NaN   \n",
            "4                                                NaN   \n",
            "\n",
            "                            label  fluid    category  \n",
            "0                         INR(PT)  Blood  Hematology  \n",
            "1                              PT  Blood  Hematology  \n",
            "2                 25-OH Vitamin D  Blood   Chemistry  \n",
            "3  Alanine Aminotransferase (ALT)  Blood   Chemistry  \n",
            "4                         Albumin  Blood   Chemistry  \n"
          ]
        }
      ]
    },
    {
      "cell_type": "code",
      "source": [
        "#filter first_chunk_merg for patients from diagnosed table\n",
        "labs_chunk1_merg_filter = first_chunk_merg[first_chunk_merg['subject_id'].isin(subject_id_list)]"
      ],
      "metadata": {
        "id": "q2uAKAekkYCl"
      },
      "execution_count": null,
      "outputs": []
    },
    {
      "cell_type": "code",
      "source": [
        "#check if worked and is reduced\n",
        "print(labs_chunk1_merg_filter.shape)\n",
        "print(first_chunk_merg.shape)"
      ],
      "metadata": {
        "id": "6CXLGNZmkah1",
        "colab": {
          "base_uri": "https://localhost:8080/"
        },
        "outputId": "d2daf456-70bd-4ac5-cee1-dcfcdee6301f"
      },
      "execution_count": null,
      "outputs": [
        {
          "output_type": "stream",
          "name": "stdout",
          "text": [
            "(3876648, 19)\n",
            "(11820000, 19)\n"
          ]
        }
      ]
    },
    {
      "cell_type": "code",
      "source": [
        "#check omr table and size\n",
        "print(omr.shape)\n",
        "print(omr.head())"
      ],
      "metadata": {
        "colab": {
          "base_uri": "https://localhost:8080/"
        },
        "id": "pLW3tLoMiqLw",
        "outputId": "8a73f430-5418-4d68-97db-dae3ab6d7c88"
      },
      "execution_count": null,
      "outputs": [
        {
          "output_type": "stream",
          "name": "stdout",
          "text": [
            "(6439169, 5)\n",
            "   subject_id   chartdate  seq_num      result_name result_value\n",
            "0    10000032  2180-04-27        1   Blood Pressure       110/65\n",
            "1    10000032  2180-04-27        1     Weight (Lbs)           94\n",
            "2    10000032  2180-05-07        1      BMI (kg/m2)         18.0\n",
            "3    10000032  2180-05-07        1  Height (Inches)           60\n",
            "4    10000032  2180-05-07        1     Weight (Lbs)        92.15\n"
          ]
        }
      ]
    },
    {
      "cell_type": "code",
      "source": [
        "#filter by subject IDs that we are using\n",
        "omr_filtered = omr[omr['subject_id'].isin(subject_id_list)]\n",
        "print(omr.shape)\n",
        "print(omr_filtered.shape)"
      ],
      "metadata": {
        "colab": {
          "base_uri": "https://localhost:8080/"
        },
        "id": "VL4zs-k3i6F8",
        "outputId": "4c7cb673-be21-4704-b2e4-f3fe2d737610"
      },
      "execution_count": null,
      "outputs": [
        {
          "output_type": "stream",
          "name": "stdout",
          "text": [
            "(6439169, 5)\n",
            "(1940194, 5)\n"
          ]
        }
      ]
    },
    {
      "cell_type": "code",
      "source": [
        "#find all omr result names (which is the names to each test that is run)\n",
        "print(omr_filtered['result_name'].unique())"
      ],
      "metadata": {
        "colab": {
          "base_uri": "https://localhost:8080/"
        },
        "id": "Sc_GaLFMjDdZ",
        "outputId": "a413a634-f40a-4cb6-c82b-16a6086399c3"
      },
      "execution_count": null,
      "outputs": [
        {
          "output_type": "stream",
          "name": "stdout",
          "text": [
            "['Blood Pressure' 'Weight (Lbs)' 'BMI (kg/m2)' 'Height (Inches)'\n",
            " 'Blood Pressure Lying' 'Blood Pressure Sitting'\n",
            " 'Blood Pressure Standing (1 min)' 'eGFR'\n",
            " 'Blood Pressure Standing (3 mins)' 'Blood Pressure Standing' 'BMI'\n",
            " 'Weight' 'Height']\n"
          ]
        }
      ]
    },
    {
      "cell_type": "code",
      "source": [
        "#checking if 'height inches' and 'height' are using the same measure\n",
        "omr_filtered[omr_filtered['result_name']=='Height'].head(10)"
      ],
      "metadata": {
        "id": "yG1KxDWisquA",
        "colab": {
          "base_uri": "https://localhost:8080/",
          "height": 331
        },
        "outputId": "713d3de1-4015-4d0b-e2b6-eeb1b69a33e3"
      },
      "execution_count": null,
      "outputs": [
        {
          "output_type": "execute_result",
          "data": {
            "text/plain": [
              "         subject_id   chartdate  seq_num result_name result_value\n",
              "461757     10738205  2174-09-12        1      Height        62.50\n",
              "1311196    12069725  2208-07-27        1      Height        66.50\n",
              "2037316    13182131  2193-07-07        1      Height        63.60\n",
              "2362744    13681703  2187-05-08        1      Height         62.0\n",
              "2953983    14605976  2166-12-30        1      Height         59.0\n",
              "2973746    14635690  2164-11-10        1      Height        64.50\n",
              "4021154    16260607  2194-07-26        1      Height         73.0\n",
              "5226279    18124591  2142-08-07        1      Height        70.50\n",
              "5270585    18204587  2157-12-06        1      Height         67.0"
            ],
            "text/html": [
              "\n",
              "  <div id=\"df-1557b516-a54e-49dc-9078-cae9ce607fb1\" class=\"colab-df-container\">\n",
              "    <div>\n",
              "<style scoped>\n",
              "    .dataframe tbody tr th:only-of-type {\n",
              "        vertical-align: middle;\n",
              "    }\n",
              "\n",
              "    .dataframe tbody tr th {\n",
              "        vertical-align: top;\n",
              "    }\n",
              "\n",
              "    .dataframe thead th {\n",
              "        text-align: right;\n",
              "    }\n",
              "</style>\n",
              "<table border=\"1\" class=\"dataframe\">\n",
              "  <thead>\n",
              "    <tr style=\"text-align: right;\">\n",
              "      <th></th>\n",
              "      <th>subject_id</th>\n",
              "      <th>chartdate</th>\n",
              "      <th>seq_num</th>\n",
              "      <th>result_name</th>\n",
              "      <th>result_value</th>\n",
              "    </tr>\n",
              "  </thead>\n",
              "  <tbody>\n",
              "    <tr>\n",
              "      <th>461757</th>\n",
              "      <td>10738205</td>\n",
              "      <td>2174-09-12</td>\n",
              "      <td>1</td>\n",
              "      <td>Height</td>\n",
              "      <td>62.50</td>\n",
              "    </tr>\n",
              "    <tr>\n",
              "      <th>1311196</th>\n",
              "      <td>12069725</td>\n",
              "      <td>2208-07-27</td>\n",
              "      <td>1</td>\n",
              "      <td>Height</td>\n",
              "      <td>66.50</td>\n",
              "    </tr>\n",
              "    <tr>\n",
              "      <th>2037316</th>\n",
              "      <td>13182131</td>\n",
              "      <td>2193-07-07</td>\n",
              "      <td>1</td>\n",
              "      <td>Height</td>\n",
              "      <td>63.60</td>\n",
              "    </tr>\n",
              "    <tr>\n",
              "      <th>2362744</th>\n",
              "      <td>13681703</td>\n",
              "      <td>2187-05-08</td>\n",
              "      <td>1</td>\n",
              "      <td>Height</td>\n",
              "      <td>62.0</td>\n",
              "    </tr>\n",
              "    <tr>\n",
              "      <th>2953983</th>\n",
              "      <td>14605976</td>\n",
              "      <td>2166-12-30</td>\n",
              "      <td>1</td>\n",
              "      <td>Height</td>\n",
              "      <td>59.0</td>\n",
              "    </tr>\n",
              "    <tr>\n",
              "      <th>2973746</th>\n",
              "      <td>14635690</td>\n",
              "      <td>2164-11-10</td>\n",
              "      <td>1</td>\n",
              "      <td>Height</td>\n",
              "      <td>64.50</td>\n",
              "    </tr>\n",
              "    <tr>\n",
              "      <th>4021154</th>\n",
              "      <td>16260607</td>\n",
              "      <td>2194-07-26</td>\n",
              "      <td>1</td>\n",
              "      <td>Height</td>\n",
              "      <td>73.0</td>\n",
              "    </tr>\n",
              "    <tr>\n",
              "      <th>5226279</th>\n",
              "      <td>18124591</td>\n",
              "      <td>2142-08-07</td>\n",
              "      <td>1</td>\n",
              "      <td>Height</td>\n",
              "      <td>70.50</td>\n",
              "    </tr>\n",
              "    <tr>\n",
              "      <th>5270585</th>\n",
              "      <td>18204587</td>\n",
              "      <td>2157-12-06</td>\n",
              "      <td>1</td>\n",
              "      <td>Height</td>\n",
              "      <td>67.0</td>\n",
              "    </tr>\n",
              "  </tbody>\n",
              "</table>\n",
              "</div>\n",
              "    <div class=\"colab-df-buttons\">\n",
              "\n",
              "  <div class=\"colab-df-container\">\n",
              "    <button class=\"colab-df-convert\" onclick=\"convertToInteractive('df-1557b516-a54e-49dc-9078-cae9ce607fb1')\"\n",
              "            title=\"Convert this dataframe to an interactive table.\"\n",
              "            style=\"display:none;\">\n",
              "\n",
              "  <svg xmlns=\"http://www.w3.org/2000/svg\" height=\"24px\" viewBox=\"0 -960 960 960\">\n",
              "    <path d=\"M120-120v-720h720v720H120Zm60-500h600v-160H180v160Zm220 220h160v-160H400v160Zm0 220h160v-160H400v160ZM180-400h160v-160H180v160Zm440 0h160v-160H620v160ZM180-180h160v-160H180v160Zm440 0h160v-160H620v160Z\"/>\n",
              "  </svg>\n",
              "    </button>\n",
              "\n",
              "  <style>\n",
              "    .colab-df-container {\n",
              "      display:flex;\n",
              "      gap: 12px;\n",
              "    }\n",
              "\n",
              "    .colab-df-convert {\n",
              "      background-color: #E8F0FE;\n",
              "      border: none;\n",
              "      border-radius: 50%;\n",
              "      cursor: pointer;\n",
              "      display: none;\n",
              "      fill: #1967D2;\n",
              "      height: 32px;\n",
              "      padding: 0 0 0 0;\n",
              "      width: 32px;\n",
              "    }\n",
              "\n",
              "    .colab-df-convert:hover {\n",
              "      background-color: #E2EBFA;\n",
              "      box-shadow: 0px 1px 2px rgba(60, 64, 67, 0.3), 0px 1px 3px 1px rgba(60, 64, 67, 0.15);\n",
              "      fill: #174EA6;\n",
              "    }\n",
              "\n",
              "    .colab-df-buttons div {\n",
              "      margin-bottom: 4px;\n",
              "    }\n",
              "\n",
              "    [theme=dark] .colab-df-convert {\n",
              "      background-color: #3B4455;\n",
              "      fill: #D2E3FC;\n",
              "    }\n",
              "\n",
              "    [theme=dark] .colab-df-convert:hover {\n",
              "      background-color: #434B5C;\n",
              "      box-shadow: 0px 1px 3px 1px rgba(0, 0, 0, 0.15);\n",
              "      filter: drop-shadow(0px 1px 2px rgba(0, 0, 0, 0.3));\n",
              "      fill: #FFFFFF;\n",
              "    }\n",
              "  </style>\n",
              "\n",
              "    <script>\n",
              "      const buttonEl =\n",
              "        document.querySelector('#df-1557b516-a54e-49dc-9078-cae9ce607fb1 button.colab-df-convert');\n",
              "      buttonEl.style.display =\n",
              "        google.colab.kernel.accessAllowed ? 'block' : 'none';\n",
              "\n",
              "      async function convertToInteractive(key) {\n",
              "        const element = document.querySelector('#df-1557b516-a54e-49dc-9078-cae9ce607fb1');\n",
              "        const dataTable =\n",
              "          await google.colab.kernel.invokeFunction('convertToInteractive',\n",
              "                                                    [key], {});\n",
              "        if (!dataTable) return;\n",
              "\n",
              "        const docLinkHtml = 'Like what you see? Visit the ' +\n",
              "          '<a target=\"_blank\" href=https://colab.research.google.com/notebooks/data_table.ipynb>data table notebook</a>'\n",
              "          + ' to learn more about interactive tables.';\n",
              "        element.innerHTML = '';\n",
              "        dataTable['output_type'] = 'display_data';\n",
              "        await google.colab.output.renderOutput(dataTable, element);\n",
              "        const docLink = document.createElement('div');\n",
              "        docLink.innerHTML = docLinkHtml;\n",
              "        element.appendChild(docLink);\n",
              "      }\n",
              "    </script>\n",
              "  </div>\n",
              "\n",
              "\n",
              "<div id=\"df-c7e244a2-d7b8-45fd-9172-6669540ee393\">\n",
              "  <button class=\"colab-df-quickchart\" onclick=\"quickchart('df-c7e244a2-d7b8-45fd-9172-6669540ee393')\"\n",
              "            title=\"Suggest charts\"\n",
              "            style=\"display:none;\">\n",
              "\n",
              "<svg xmlns=\"http://www.w3.org/2000/svg\" height=\"24px\"viewBox=\"0 0 24 24\"\n",
              "     width=\"24px\">\n",
              "    <g>\n",
              "        <path d=\"M19 3H5c-1.1 0-2 .9-2 2v14c0 1.1.9 2 2 2h14c1.1 0 2-.9 2-2V5c0-1.1-.9-2-2-2zM9 17H7v-7h2v7zm4 0h-2V7h2v10zm4 0h-2v-4h2v4z\"/>\n",
              "    </g>\n",
              "</svg>\n",
              "  </button>\n",
              "\n",
              "<style>\n",
              "  .colab-df-quickchart {\n",
              "      --bg-color: #E8F0FE;\n",
              "      --fill-color: #1967D2;\n",
              "      --hover-bg-color: #E2EBFA;\n",
              "      --hover-fill-color: #174EA6;\n",
              "      --disabled-fill-color: #AAA;\n",
              "      --disabled-bg-color: #DDD;\n",
              "  }\n",
              "\n",
              "  [theme=dark] .colab-df-quickchart {\n",
              "      --bg-color: #3B4455;\n",
              "      --fill-color: #D2E3FC;\n",
              "      --hover-bg-color: #434B5C;\n",
              "      --hover-fill-color: #FFFFFF;\n",
              "      --disabled-bg-color: #3B4455;\n",
              "      --disabled-fill-color: #666;\n",
              "  }\n",
              "\n",
              "  .colab-df-quickchart {\n",
              "    background-color: var(--bg-color);\n",
              "    border: none;\n",
              "    border-radius: 50%;\n",
              "    cursor: pointer;\n",
              "    display: none;\n",
              "    fill: var(--fill-color);\n",
              "    height: 32px;\n",
              "    padding: 0;\n",
              "    width: 32px;\n",
              "  }\n",
              "\n",
              "  .colab-df-quickchart:hover {\n",
              "    background-color: var(--hover-bg-color);\n",
              "    box-shadow: 0 1px 2px rgba(60, 64, 67, 0.3), 0 1px 3px 1px rgba(60, 64, 67, 0.15);\n",
              "    fill: var(--button-hover-fill-color);\n",
              "  }\n",
              "\n",
              "  .colab-df-quickchart-complete:disabled,\n",
              "  .colab-df-quickchart-complete:disabled:hover {\n",
              "    background-color: var(--disabled-bg-color);\n",
              "    fill: var(--disabled-fill-color);\n",
              "    box-shadow: none;\n",
              "  }\n",
              "\n",
              "  .colab-df-spinner {\n",
              "    border: 2px solid var(--fill-color);\n",
              "    border-color: transparent;\n",
              "    border-bottom-color: var(--fill-color);\n",
              "    animation:\n",
              "      spin 1s steps(1) infinite;\n",
              "  }\n",
              "\n",
              "  @keyframes spin {\n",
              "    0% {\n",
              "      border-color: transparent;\n",
              "      border-bottom-color: var(--fill-color);\n",
              "      border-left-color: var(--fill-color);\n",
              "    }\n",
              "    20% {\n",
              "      border-color: transparent;\n",
              "      border-left-color: var(--fill-color);\n",
              "      border-top-color: var(--fill-color);\n",
              "    }\n",
              "    30% {\n",
              "      border-color: transparent;\n",
              "      border-left-color: var(--fill-color);\n",
              "      border-top-color: var(--fill-color);\n",
              "      border-right-color: var(--fill-color);\n",
              "    }\n",
              "    40% {\n",
              "      border-color: transparent;\n",
              "      border-right-color: var(--fill-color);\n",
              "      border-top-color: var(--fill-color);\n",
              "    }\n",
              "    60% {\n",
              "      border-color: transparent;\n",
              "      border-right-color: var(--fill-color);\n",
              "    }\n",
              "    80% {\n",
              "      border-color: transparent;\n",
              "      border-right-color: var(--fill-color);\n",
              "      border-bottom-color: var(--fill-color);\n",
              "    }\n",
              "    90% {\n",
              "      border-color: transparent;\n",
              "      border-bottom-color: var(--fill-color);\n",
              "    }\n",
              "  }\n",
              "</style>\n",
              "\n",
              "  <script>\n",
              "    async function quickchart(key) {\n",
              "      const quickchartButtonEl =\n",
              "        document.querySelector('#' + key + ' button');\n",
              "      quickchartButtonEl.disabled = true;  // To prevent multiple clicks.\n",
              "      quickchartButtonEl.classList.add('colab-df-spinner');\n",
              "      try {\n",
              "        const charts = await google.colab.kernel.invokeFunction(\n",
              "            'suggestCharts', [key], {});\n",
              "      } catch (error) {\n",
              "        console.error('Error during call to suggestCharts:', error);\n",
              "      }\n",
              "      quickchartButtonEl.classList.remove('colab-df-spinner');\n",
              "      quickchartButtonEl.classList.add('colab-df-quickchart-complete');\n",
              "    }\n",
              "    (() => {\n",
              "      let quickchartButtonEl =\n",
              "        document.querySelector('#df-c7e244a2-d7b8-45fd-9172-6669540ee393 button');\n",
              "      quickchartButtonEl.style.display =\n",
              "        google.colab.kernel.accessAllowed ? 'block' : 'none';\n",
              "    })();\n",
              "  </script>\n",
              "</div>\n",
              "    </div>\n",
              "  </div>\n"
            ],
            "application/vnd.google.colaboratory.intrinsic+json": {
              "type": "dataframe",
              "repr_error": "0"
            }
          },
          "metadata": {},
          "execution_count": 22
        }
      ]
    },
    {
      "cell_type": "code",
      "source": [
        "#checking if 'weight' and 'weight (Lbs)' are the same measure.\n",
        "#ordered the data to get the lowest first- if it was Kg it would be lower\n",
        "omr_filtered[omr_filtered['result_name']=='Weight'].sort_values(by='result_value').head(10)\n"
      ],
      "metadata": {
        "id": "t1a9LDspQfMO",
        "colab": {
          "base_uri": "https://localhost:8080/",
          "height": 363
        },
        "outputId": "2c7e67b7-7294-409a-c392-7e4b8ace36f3"
      },
      "execution_count": null,
      "outputs": [
        {
          "output_type": "execute_result",
          "data": {
            "text/plain": [
              "         subject_id   chartdate  seq_num result_name result_value\n",
              "4099786    16385283  2211-03-23        1      Weight        108.0\n",
              "6371475    19895232  2170-10-12        1      Weight       111.60\n",
              "5061375    17860497  2158-02-11        1      Weight       112.90\n",
              "6342751    19854363  2196-12-03        1      Weight       115.00\n",
              "5407608    18418634  2123-10-13        1      Weight       115.30\n",
              "1749937    12743264  2130-03-17        1      Weight        116.0\n",
              "5924261    19207802  2193-09-07        1      Weight       117.00\n",
              "2756022    14295224  2168-06-15        1      Weight       118.00\n",
              "3264253    15097184  2136-06-14        1      Weight       121.00\n",
              "387707     10620077  2182-10-24        1      Weight        125.0"
            ],
            "text/html": [
              "\n",
              "  <div id=\"df-0ab9599b-dce8-4e9b-916c-978d16395608\" class=\"colab-df-container\">\n",
              "    <div>\n",
              "<style scoped>\n",
              "    .dataframe tbody tr th:only-of-type {\n",
              "        vertical-align: middle;\n",
              "    }\n",
              "\n",
              "    .dataframe tbody tr th {\n",
              "        vertical-align: top;\n",
              "    }\n",
              "\n",
              "    .dataframe thead th {\n",
              "        text-align: right;\n",
              "    }\n",
              "</style>\n",
              "<table border=\"1\" class=\"dataframe\">\n",
              "  <thead>\n",
              "    <tr style=\"text-align: right;\">\n",
              "      <th></th>\n",
              "      <th>subject_id</th>\n",
              "      <th>chartdate</th>\n",
              "      <th>seq_num</th>\n",
              "      <th>result_name</th>\n",
              "      <th>result_value</th>\n",
              "    </tr>\n",
              "  </thead>\n",
              "  <tbody>\n",
              "    <tr>\n",
              "      <th>4099786</th>\n",
              "      <td>16385283</td>\n",
              "      <td>2211-03-23</td>\n",
              "      <td>1</td>\n",
              "      <td>Weight</td>\n",
              "      <td>108.0</td>\n",
              "    </tr>\n",
              "    <tr>\n",
              "      <th>6371475</th>\n",
              "      <td>19895232</td>\n",
              "      <td>2170-10-12</td>\n",
              "      <td>1</td>\n",
              "      <td>Weight</td>\n",
              "      <td>111.60</td>\n",
              "    </tr>\n",
              "    <tr>\n",
              "      <th>5061375</th>\n",
              "      <td>17860497</td>\n",
              "      <td>2158-02-11</td>\n",
              "      <td>1</td>\n",
              "      <td>Weight</td>\n",
              "      <td>112.90</td>\n",
              "    </tr>\n",
              "    <tr>\n",
              "      <th>6342751</th>\n",
              "      <td>19854363</td>\n",
              "      <td>2196-12-03</td>\n",
              "      <td>1</td>\n",
              "      <td>Weight</td>\n",
              "      <td>115.00</td>\n",
              "    </tr>\n",
              "    <tr>\n",
              "      <th>5407608</th>\n",
              "      <td>18418634</td>\n",
              "      <td>2123-10-13</td>\n",
              "      <td>1</td>\n",
              "      <td>Weight</td>\n",
              "      <td>115.30</td>\n",
              "    </tr>\n",
              "    <tr>\n",
              "      <th>1749937</th>\n",
              "      <td>12743264</td>\n",
              "      <td>2130-03-17</td>\n",
              "      <td>1</td>\n",
              "      <td>Weight</td>\n",
              "      <td>116.0</td>\n",
              "    </tr>\n",
              "    <tr>\n",
              "      <th>5924261</th>\n",
              "      <td>19207802</td>\n",
              "      <td>2193-09-07</td>\n",
              "      <td>1</td>\n",
              "      <td>Weight</td>\n",
              "      <td>117.00</td>\n",
              "    </tr>\n",
              "    <tr>\n",
              "      <th>2756022</th>\n",
              "      <td>14295224</td>\n",
              "      <td>2168-06-15</td>\n",
              "      <td>1</td>\n",
              "      <td>Weight</td>\n",
              "      <td>118.00</td>\n",
              "    </tr>\n",
              "    <tr>\n",
              "      <th>3264253</th>\n",
              "      <td>15097184</td>\n",
              "      <td>2136-06-14</td>\n",
              "      <td>1</td>\n",
              "      <td>Weight</td>\n",
              "      <td>121.00</td>\n",
              "    </tr>\n",
              "    <tr>\n",
              "      <th>387707</th>\n",
              "      <td>10620077</td>\n",
              "      <td>2182-10-24</td>\n",
              "      <td>1</td>\n",
              "      <td>Weight</td>\n",
              "      <td>125.0</td>\n",
              "    </tr>\n",
              "  </tbody>\n",
              "</table>\n",
              "</div>\n",
              "    <div class=\"colab-df-buttons\">\n",
              "\n",
              "  <div class=\"colab-df-container\">\n",
              "    <button class=\"colab-df-convert\" onclick=\"convertToInteractive('df-0ab9599b-dce8-4e9b-916c-978d16395608')\"\n",
              "            title=\"Convert this dataframe to an interactive table.\"\n",
              "            style=\"display:none;\">\n",
              "\n",
              "  <svg xmlns=\"http://www.w3.org/2000/svg\" height=\"24px\" viewBox=\"0 -960 960 960\">\n",
              "    <path d=\"M120-120v-720h720v720H120Zm60-500h600v-160H180v160Zm220 220h160v-160H400v160Zm0 220h160v-160H400v160ZM180-400h160v-160H180v160Zm440 0h160v-160H620v160ZM180-180h160v-160H180v160Zm440 0h160v-160H620v160Z\"/>\n",
              "  </svg>\n",
              "    </button>\n",
              "\n",
              "  <style>\n",
              "    .colab-df-container {\n",
              "      display:flex;\n",
              "      gap: 12px;\n",
              "    }\n",
              "\n",
              "    .colab-df-convert {\n",
              "      background-color: #E8F0FE;\n",
              "      border: none;\n",
              "      border-radius: 50%;\n",
              "      cursor: pointer;\n",
              "      display: none;\n",
              "      fill: #1967D2;\n",
              "      height: 32px;\n",
              "      padding: 0 0 0 0;\n",
              "      width: 32px;\n",
              "    }\n",
              "\n",
              "    .colab-df-convert:hover {\n",
              "      background-color: #E2EBFA;\n",
              "      box-shadow: 0px 1px 2px rgba(60, 64, 67, 0.3), 0px 1px 3px 1px rgba(60, 64, 67, 0.15);\n",
              "      fill: #174EA6;\n",
              "    }\n",
              "\n",
              "    .colab-df-buttons div {\n",
              "      margin-bottom: 4px;\n",
              "    }\n",
              "\n",
              "    [theme=dark] .colab-df-convert {\n",
              "      background-color: #3B4455;\n",
              "      fill: #D2E3FC;\n",
              "    }\n",
              "\n",
              "    [theme=dark] .colab-df-convert:hover {\n",
              "      background-color: #434B5C;\n",
              "      box-shadow: 0px 1px 3px 1px rgba(0, 0, 0, 0.15);\n",
              "      filter: drop-shadow(0px 1px 2px rgba(0, 0, 0, 0.3));\n",
              "      fill: #FFFFFF;\n",
              "    }\n",
              "  </style>\n",
              "\n",
              "    <script>\n",
              "      const buttonEl =\n",
              "        document.querySelector('#df-0ab9599b-dce8-4e9b-916c-978d16395608 button.colab-df-convert');\n",
              "      buttonEl.style.display =\n",
              "        google.colab.kernel.accessAllowed ? 'block' : 'none';\n",
              "\n",
              "      async function convertToInteractive(key) {\n",
              "        const element = document.querySelector('#df-0ab9599b-dce8-4e9b-916c-978d16395608');\n",
              "        const dataTable =\n",
              "          await google.colab.kernel.invokeFunction('convertToInteractive',\n",
              "                                                    [key], {});\n",
              "        if (!dataTable) return;\n",
              "\n",
              "        const docLinkHtml = 'Like what you see? Visit the ' +\n",
              "          '<a target=\"_blank\" href=https://colab.research.google.com/notebooks/data_table.ipynb>data table notebook</a>'\n",
              "          + ' to learn more about interactive tables.';\n",
              "        element.innerHTML = '';\n",
              "        dataTable['output_type'] = 'display_data';\n",
              "        await google.colab.output.renderOutput(dataTable, element);\n",
              "        const docLink = document.createElement('div');\n",
              "        docLink.innerHTML = docLinkHtml;\n",
              "        element.appendChild(docLink);\n",
              "      }\n",
              "    </script>\n",
              "  </div>\n",
              "\n",
              "\n",
              "<div id=\"df-32fd77c0-7450-46b4-974b-00f2eff3bdf6\">\n",
              "  <button class=\"colab-df-quickchart\" onclick=\"quickchart('df-32fd77c0-7450-46b4-974b-00f2eff3bdf6')\"\n",
              "            title=\"Suggest charts\"\n",
              "            style=\"display:none;\">\n",
              "\n",
              "<svg xmlns=\"http://www.w3.org/2000/svg\" height=\"24px\"viewBox=\"0 0 24 24\"\n",
              "     width=\"24px\">\n",
              "    <g>\n",
              "        <path d=\"M19 3H5c-1.1 0-2 .9-2 2v14c0 1.1.9 2 2 2h14c1.1 0 2-.9 2-2V5c0-1.1-.9-2-2-2zM9 17H7v-7h2v7zm4 0h-2V7h2v10zm4 0h-2v-4h2v4z\"/>\n",
              "    </g>\n",
              "</svg>\n",
              "  </button>\n",
              "\n",
              "<style>\n",
              "  .colab-df-quickchart {\n",
              "      --bg-color: #E8F0FE;\n",
              "      --fill-color: #1967D2;\n",
              "      --hover-bg-color: #E2EBFA;\n",
              "      --hover-fill-color: #174EA6;\n",
              "      --disabled-fill-color: #AAA;\n",
              "      --disabled-bg-color: #DDD;\n",
              "  }\n",
              "\n",
              "  [theme=dark] .colab-df-quickchart {\n",
              "      --bg-color: #3B4455;\n",
              "      --fill-color: #D2E3FC;\n",
              "      --hover-bg-color: #434B5C;\n",
              "      --hover-fill-color: #FFFFFF;\n",
              "      --disabled-bg-color: #3B4455;\n",
              "      --disabled-fill-color: #666;\n",
              "  }\n",
              "\n",
              "  .colab-df-quickchart {\n",
              "    background-color: var(--bg-color);\n",
              "    border: none;\n",
              "    border-radius: 50%;\n",
              "    cursor: pointer;\n",
              "    display: none;\n",
              "    fill: var(--fill-color);\n",
              "    height: 32px;\n",
              "    padding: 0;\n",
              "    width: 32px;\n",
              "  }\n",
              "\n",
              "  .colab-df-quickchart:hover {\n",
              "    background-color: var(--hover-bg-color);\n",
              "    box-shadow: 0 1px 2px rgba(60, 64, 67, 0.3), 0 1px 3px 1px rgba(60, 64, 67, 0.15);\n",
              "    fill: var(--button-hover-fill-color);\n",
              "  }\n",
              "\n",
              "  .colab-df-quickchart-complete:disabled,\n",
              "  .colab-df-quickchart-complete:disabled:hover {\n",
              "    background-color: var(--disabled-bg-color);\n",
              "    fill: var(--disabled-fill-color);\n",
              "    box-shadow: none;\n",
              "  }\n",
              "\n",
              "  .colab-df-spinner {\n",
              "    border: 2px solid var(--fill-color);\n",
              "    border-color: transparent;\n",
              "    border-bottom-color: var(--fill-color);\n",
              "    animation:\n",
              "      spin 1s steps(1) infinite;\n",
              "  }\n",
              "\n",
              "  @keyframes spin {\n",
              "    0% {\n",
              "      border-color: transparent;\n",
              "      border-bottom-color: var(--fill-color);\n",
              "      border-left-color: var(--fill-color);\n",
              "    }\n",
              "    20% {\n",
              "      border-color: transparent;\n",
              "      border-left-color: var(--fill-color);\n",
              "      border-top-color: var(--fill-color);\n",
              "    }\n",
              "    30% {\n",
              "      border-color: transparent;\n",
              "      border-left-color: var(--fill-color);\n",
              "      border-top-color: var(--fill-color);\n",
              "      border-right-color: var(--fill-color);\n",
              "    }\n",
              "    40% {\n",
              "      border-color: transparent;\n",
              "      border-right-color: var(--fill-color);\n",
              "      border-top-color: var(--fill-color);\n",
              "    }\n",
              "    60% {\n",
              "      border-color: transparent;\n",
              "      border-right-color: var(--fill-color);\n",
              "    }\n",
              "    80% {\n",
              "      border-color: transparent;\n",
              "      border-right-color: var(--fill-color);\n",
              "      border-bottom-color: var(--fill-color);\n",
              "    }\n",
              "    90% {\n",
              "      border-color: transparent;\n",
              "      border-bottom-color: var(--fill-color);\n",
              "    }\n",
              "  }\n",
              "</style>\n",
              "\n",
              "  <script>\n",
              "    async function quickchart(key) {\n",
              "      const quickchartButtonEl =\n",
              "        document.querySelector('#' + key + ' button');\n",
              "      quickchartButtonEl.disabled = true;  // To prevent multiple clicks.\n",
              "      quickchartButtonEl.classList.add('colab-df-spinner');\n",
              "      try {\n",
              "        const charts = await google.colab.kernel.invokeFunction(\n",
              "            'suggestCharts', [key], {});\n",
              "      } catch (error) {\n",
              "        console.error('Error during call to suggestCharts:', error);\n",
              "      }\n",
              "      quickchartButtonEl.classList.remove('colab-df-spinner');\n",
              "      quickchartButtonEl.classList.add('colab-df-quickchart-complete');\n",
              "    }\n",
              "    (() => {\n",
              "      let quickchartButtonEl =\n",
              "        document.querySelector('#df-32fd77c0-7450-46b4-974b-00f2eff3bdf6 button');\n",
              "      quickchartButtonEl.style.display =\n",
              "        google.colab.kernel.accessAllowed ? 'block' : 'none';\n",
              "    })();\n",
              "  </script>\n",
              "</div>\n",
              "    </div>\n",
              "  </div>\n"
            ],
            "application/vnd.google.colaboratory.intrinsic+json": {
              "type": "dataframe",
              "repr_error": "0"
            }
          },
          "metadata": {},
          "execution_count": 23
        }
      ]
    },
    {
      "cell_type": "code",
      "source": [
        "#check if BMI is within range of BMI (kg/m2)\n",
        "omr_filtered[omr_filtered['result_name']=='BMI'].sort_values(by='result_value').head(10)\n"
      ],
      "metadata": {
        "id": "noRuQMAMJmvQ",
        "colab": {
          "base_uri": "https://localhost:8080/",
          "height": 363
        },
        "outputId": "d4d16ceb-58e2-4743-feba-668a95fa18f6"
      },
      "execution_count": null,
      "outputs": [
        {
          "output_type": "execute_result",
          "data": {
            "text/plain": [
              "         subject_id   chartdate  seq_num result_name result_value\n",
              "1351364    12137322  2126-02-14        1         BMI         16.0\n",
              "3260428    15092180  2189-09-27        1         BMI         18.0\n",
              "3642347    15662564  2134-07-22        1         BMI         18.0\n",
              "1749931    12743264  2130-02-04        1         BMI         18.0\n",
              "1351366    12137322  2126-03-24        1         BMI         18.0\n",
              "2249169    13505524  2131-01-18        1         BMI         19.0\n",
              "2489041    13884635  2161-10-14        1         BMI         21.0\n",
              "5807959    19017190  2189-08-24        1         BMI         21.0\n",
              "5061372    17860497  2157-12-16        1         BMI         21.0\n",
              "5718783    18889286  2158-11-15        1         BMI         21.0"
            ],
            "text/html": [
              "\n",
              "  <div id=\"df-4415dfea-45ea-425e-9165-b926813b2b70\" class=\"colab-df-container\">\n",
              "    <div>\n",
              "<style scoped>\n",
              "    .dataframe tbody tr th:only-of-type {\n",
              "        vertical-align: middle;\n",
              "    }\n",
              "\n",
              "    .dataframe tbody tr th {\n",
              "        vertical-align: top;\n",
              "    }\n",
              "\n",
              "    .dataframe thead th {\n",
              "        text-align: right;\n",
              "    }\n",
              "</style>\n",
              "<table border=\"1\" class=\"dataframe\">\n",
              "  <thead>\n",
              "    <tr style=\"text-align: right;\">\n",
              "      <th></th>\n",
              "      <th>subject_id</th>\n",
              "      <th>chartdate</th>\n",
              "      <th>seq_num</th>\n",
              "      <th>result_name</th>\n",
              "      <th>result_value</th>\n",
              "    </tr>\n",
              "  </thead>\n",
              "  <tbody>\n",
              "    <tr>\n",
              "      <th>1351364</th>\n",
              "      <td>12137322</td>\n",
              "      <td>2126-02-14</td>\n",
              "      <td>1</td>\n",
              "      <td>BMI</td>\n",
              "      <td>16.0</td>\n",
              "    </tr>\n",
              "    <tr>\n",
              "      <th>3260428</th>\n",
              "      <td>15092180</td>\n",
              "      <td>2189-09-27</td>\n",
              "      <td>1</td>\n",
              "      <td>BMI</td>\n",
              "      <td>18.0</td>\n",
              "    </tr>\n",
              "    <tr>\n",
              "      <th>3642347</th>\n",
              "      <td>15662564</td>\n",
              "      <td>2134-07-22</td>\n",
              "      <td>1</td>\n",
              "      <td>BMI</td>\n",
              "      <td>18.0</td>\n",
              "    </tr>\n",
              "    <tr>\n",
              "      <th>1749931</th>\n",
              "      <td>12743264</td>\n",
              "      <td>2130-02-04</td>\n",
              "      <td>1</td>\n",
              "      <td>BMI</td>\n",
              "      <td>18.0</td>\n",
              "    </tr>\n",
              "    <tr>\n",
              "      <th>1351366</th>\n",
              "      <td>12137322</td>\n",
              "      <td>2126-03-24</td>\n",
              "      <td>1</td>\n",
              "      <td>BMI</td>\n",
              "      <td>18.0</td>\n",
              "    </tr>\n",
              "    <tr>\n",
              "      <th>2249169</th>\n",
              "      <td>13505524</td>\n",
              "      <td>2131-01-18</td>\n",
              "      <td>1</td>\n",
              "      <td>BMI</td>\n",
              "      <td>19.0</td>\n",
              "    </tr>\n",
              "    <tr>\n",
              "      <th>2489041</th>\n",
              "      <td>13884635</td>\n",
              "      <td>2161-10-14</td>\n",
              "      <td>1</td>\n",
              "      <td>BMI</td>\n",
              "      <td>21.0</td>\n",
              "    </tr>\n",
              "    <tr>\n",
              "      <th>5807959</th>\n",
              "      <td>19017190</td>\n",
              "      <td>2189-08-24</td>\n",
              "      <td>1</td>\n",
              "      <td>BMI</td>\n",
              "      <td>21.0</td>\n",
              "    </tr>\n",
              "    <tr>\n",
              "      <th>5061372</th>\n",
              "      <td>17860497</td>\n",
              "      <td>2157-12-16</td>\n",
              "      <td>1</td>\n",
              "      <td>BMI</td>\n",
              "      <td>21.0</td>\n",
              "    </tr>\n",
              "    <tr>\n",
              "      <th>5718783</th>\n",
              "      <td>18889286</td>\n",
              "      <td>2158-11-15</td>\n",
              "      <td>1</td>\n",
              "      <td>BMI</td>\n",
              "      <td>21.0</td>\n",
              "    </tr>\n",
              "  </tbody>\n",
              "</table>\n",
              "</div>\n",
              "    <div class=\"colab-df-buttons\">\n",
              "\n",
              "  <div class=\"colab-df-container\">\n",
              "    <button class=\"colab-df-convert\" onclick=\"convertToInteractive('df-4415dfea-45ea-425e-9165-b926813b2b70')\"\n",
              "            title=\"Convert this dataframe to an interactive table.\"\n",
              "            style=\"display:none;\">\n",
              "\n",
              "  <svg xmlns=\"http://www.w3.org/2000/svg\" height=\"24px\" viewBox=\"0 -960 960 960\">\n",
              "    <path d=\"M120-120v-720h720v720H120Zm60-500h600v-160H180v160Zm220 220h160v-160H400v160Zm0 220h160v-160H400v160ZM180-400h160v-160H180v160Zm440 0h160v-160H620v160ZM180-180h160v-160H180v160Zm440 0h160v-160H620v160Z\"/>\n",
              "  </svg>\n",
              "    </button>\n",
              "\n",
              "  <style>\n",
              "    .colab-df-container {\n",
              "      display:flex;\n",
              "      gap: 12px;\n",
              "    }\n",
              "\n",
              "    .colab-df-convert {\n",
              "      background-color: #E8F0FE;\n",
              "      border: none;\n",
              "      border-radius: 50%;\n",
              "      cursor: pointer;\n",
              "      display: none;\n",
              "      fill: #1967D2;\n",
              "      height: 32px;\n",
              "      padding: 0 0 0 0;\n",
              "      width: 32px;\n",
              "    }\n",
              "\n",
              "    .colab-df-convert:hover {\n",
              "      background-color: #E2EBFA;\n",
              "      box-shadow: 0px 1px 2px rgba(60, 64, 67, 0.3), 0px 1px 3px 1px rgba(60, 64, 67, 0.15);\n",
              "      fill: #174EA6;\n",
              "    }\n",
              "\n",
              "    .colab-df-buttons div {\n",
              "      margin-bottom: 4px;\n",
              "    }\n",
              "\n",
              "    [theme=dark] .colab-df-convert {\n",
              "      background-color: #3B4455;\n",
              "      fill: #D2E3FC;\n",
              "    }\n",
              "\n",
              "    [theme=dark] .colab-df-convert:hover {\n",
              "      background-color: #434B5C;\n",
              "      box-shadow: 0px 1px 3px 1px rgba(0, 0, 0, 0.15);\n",
              "      filter: drop-shadow(0px 1px 2px rgba(0, 0, 0, 0.3));\n",
              "      fill: #FFFFFF;\n",
              "    }\n",
              "  </style>\n",
              "\n",
              "    <script>\n",
              "      const buttonEl =\n",
              "        document.querySelector('#df-4415dfea-45ea-425e-9165-b926813b2b70 button.colab-df-convert');\n",
              "      buttonEl.style.display =\n",
              "        google.colab.kernel.accessAllowed ? 'block' : 'none';\n",
              "\n",
              "      async function convertToInteractive(key) {\n",
              "        const element = document.querySelector('#df-4415dfea-45ea-425e-9165-b926813b2b70');\n",
              "        const dataTable =\n",
              "          await google.colab.kernel.invokeFunction('convertToInteractive',\n",
              "                                                    [key], {});\n",
              "        if (!dataTable) return;\n",
              "\n",
              "        const docLinkHtml = 'Like what you see? Visit the ' +\n",
              "          '<a target=\"_blank\" href=https://colab.research.google.com/notebooks/data_table.ipynb>data table notebook</a>'\n",
              "          + ' to learn more about interactive tables.';\n",
              "        element.innerHTML = '';\n",
              "        dataTable['output_type'] = 'display_data';\n",
              "        await google.colab.output.renderOutput(dataTable, element);\n",
              "        const docLink = document.createElement('div');\n",
              "        docLink.innerHTML = docLinkHtml;\n",
              "        element.appendChild(docLink);\n",
              "      }\n",
              "    </script>\n",
              "  </div>\n",
              "\n",
              "\n",
              "<div id=\"df-0acaac9d-35cb-425b-a972-95a89c144405\">\n",
              "  <button class=\"colab-df-quickchart\" onclick=\"quickchart('df-0acaac9d-35cb-425b-a972-95a89c144405')\"\n",
              "            title=\"Suggest charts\"\n",
              "            style=\"display:none;\">\n",
              "\n",
              "<svg xmlns=\"http://www.w3.org/2000/svg\" height=\"24px\"viewBox=\"0 0 24 24\"\n",
              "     width=\"24px\">\n",
              "    <g>\n",
              "        <path d=\"M19 3H5c-1.1 0-2 .9-2 2v14c0 1.1.9 2 2 2h14c1.1 0 2-.9 2-2V5c0-1.1-.9-2-2-2zM9 17H7v-7h2v7zm4 0h-2V7h2v10zm4 0h-2v-4h2v4z\"/>\n",
              "    </g>\n",
              "</svg>\n",
              "  </button>\n",
              "\n",
              "<style>\n",
              "  .colab-df-quickchart {\n",
              "      --bg-color: #E8F0FE;\n",
              "      --fill-color: #1967D2;\n",
              "      --hover-bg-color: #E2EBFA;\n",
              "      --hover-fill-color: #174EA6;\n",
              "      --disabled-fill-color: #AAA;\n",
              "      --disabled-bg-color: #DDD;\n",
              "  }\n",
              "\n",
              "  [theme=dark] .colab-df-quickchart {\n",
              "      --bg-color: #3B4455;\n",
              "      --fill-color: #D2E3FC;\n",
              "      --hover-bg-color: #434B5C;\n",
              "      --hover-fill-color: #FFFFFF;\n",
              "      --disabled-bg-color: #3B4455;\n",
              "      --disabled-fill-color: #666;\n",
              "  }\n",
              "\n",
              "  .colab-df-quickchart {\n",
              "    background-color: var(--bg-color);\n",
              "    border: none;\n",
              "    border-radius: 50%;\n",
              "    cursor: pointer;\n",
              "    display: none;\n",
              "    fill: var(--fill-color);\n",
              "    height: 32px;\n",
              "    padding: 0;\n",
              "    width: 32px;\n",
              "  }\n",
              "\n",
              "  .colab-df-quickchart:hover {\n",
              "    background-color: var(--hover-bg-color);\n",
              "    box-shadow: 0 1px 2px rgba(60, 64, 67, 0.3), 0 1px 3px 1px rgba(60, 64, 67, 0.15);\n",
              "    fill: var(--button-hover-fill-color);\n",
              "  }\n",
              "\n",
              "  .colab-df-quickchart-complete:disabled,\n",
              "  .colab-df-quickchart-complete:disabled:hover {\n",
              "    background-color: var(--disabled-bg-color);\n",
              "    fill: var(--disabled-fill-color);\n",
              "    box-shadow: none;\n",
              "  }\n",
              "\n",
              "  .colab-df-spinner {\n",
              "    border: 2px solid var(--fill-color);\n",
              "    border-color: transparent;\n",
              "    border-bottom-color: var(--fill-color);\n",
              "    animation:\n",
              "      spin 1s steps(1) infinite;\n",
              "  }\n",
              "\n",
              "  @keyframes spin {\n",
              "    0% {\n",
              "      border-color: transparent;\n",
              "      border-bottom-color: var(--fill-color);\n",
              "      border-left-color: var(--fill-color);\n",
              "    }\n",
              "    20% {\n",
              "      border-color: transparent;\n",
              "      border-left-color: var(--fill-color);\n",
              "      border-top-color: var(--fill-color);\n",
              "    }\n",
              "    30% {\n",
              "      border-color: transparent;\n",
              "      border-left-color: var(--fill-color);\n",
              "      border-top-color: var(--fill-color);\n",
              "      border-right-color: var(--fill-color);\n",
              "    }\n",
              "    40% {\n",
              "      border-color: transparent;\n",
              "      border-right-color: var(--fill-color);\n",
              "      border-top-color: var(--fill-color);\n",
              "    }\n",
              "    60% {\n",
              "      border-color: transparent;\n",
              "      border-right-color: var(--fill-color);\n",
              "    }\n",
              "    80% {\n",
              "      border-color: transparent;\n",
              "      border-right-color: var(--fill-color);\n",
              "      border-bottom-color: var(--fill-color);\n",
              "    }\n",
              "    90% {\n",
              "      border-color: transparent;\n",
              "      border-bottom-color: var(--fill-color);\n",
              "    }\n",
              "  }\n",
              "</style>\n",
              "\n",
              "  <script>\n",
              "    async function quickchart(key) {\n",
              "      const quickchartButtonEl =\n",
              "        document.querySelector('#' + key + ' button');\n",
              "      quickchartButtonEl.disabled = true;  // To prevent multiple clicks.\n",
              "      quickchartButtonEl.classList.add('colab-df-spinner');\n",
              "      try {\n",
              "        const charts = await google.colab.kernel.invokeFunction(\n",
              "            'suggestCharts', [key], {});\n",
              "      } catch (error) {\n",
              "        console.error('Error during call to suggestCharts:', error);\n",
              "      }\n",
              "      quickchartButtonEl.classList.remove('colab-df-spinner');\n",
              "      quickchartButtonEl.classList.add('colab-df-quickchart-complete');\n",
              "    }\n",
              "    (() => {\n",
              "      let quickchartButtonEl =\n",
              "        document.querySelector('#df-0acaac9d-35cb-425b-a972-95a89c144405 button');\n",
              "      quickchartButtonEl.style.display =\n",
              "        google.colab.kernel.accessAllowed ? 'block' : 'none';\n",
              "    })();\n",
              "  </script>\n",
              "</div>\n",
              "    </div>\n",
              "  </div>\n"
            ],
            "application/vnd.google.colaboratory.intrinsic+json": {
              "type": "dataframe",
              "repr_error": "0"
            }
          },
          "metadata": {},
          "execution_count": 24
        }
      ]
    },
    {
      "cell_type": "code",
      "source": [
        "#consolidating like measures (that were previously checked)\n",
        "omr_filtered.loc[omr_filtered['result_name']=='Height', 'result_name'] = 'Height (Inches)'\n",
        "omr_filtered.loc[omr_filtered['result_name']=='Weight', 'result_name'] = 'Weight (Lbs)'\n",
        "omr_filtered.loc[omr_filtered['result_name']=='BMI (kg/m2)', 'result_name'] = 'BMI'\n",
        "print(omr_filtered['result_name'].unique())\n"
      ],
      "metadata": {
        "id": "a8kCVztwQjnf",
        "colab": {
          "base_uri": "https://localhost:8080/"
        },
        "outputId": "79e2315f-e2f3-4961-e36b-c4a96772d57c"
      },
      "execution_count": null,
      "outputs": [
        {
          "output_type": "stream",
          "name": "stdout",
          "text": [
            "['Blood Pressure' 'Weight (Lbs)' 'BMI' 'Height (Inches)'\n",
            " 'Blood Pressure Lying' 'Blood Pressure Sitting'\n",
            " 'Blood Pressure Standing (1 min)' 'eGFR'\n",
            " 'Blood Pressure Standing (3 mins)' 'Blood Pressure Standing']\n"
          ]
        }
      ]
    },
    {
      "cell_type": "code",
      "source": [
        "#filter omr to only have the blood pressure measures to see how many there are of each\n",
        "omr_blood_pressure = omr_filtered[omr_filtered['result_name'].isin(['Blood Pressure',\n",
        " 'Blood Pressure Sitting', 'Blood Pressure Standing (1 min)',\n",
        " 'Blood Pressure Lying', 'Blood Pressure Standing (3 mins)',\n",
        " 'Blood Pressure Standing'])]"
      ],
      "metadata": {
        "id": "bn2nyPX3f22x"
      },
      "execution_count": null,
      "outputs": []
    },
    {
      "cell_type": "code",
      "source": [
        "#barchart showing the counts of each different blood pressure result to evaluate if it is a necessary distiction\n",
        "import matplotlib.pyplot as plt\n",
        "import seaborn as sns\n",
        "sns.countplot(omr_blood_pressure, x='result_name')\n",
        "plt.xticks(rotation=45)\n",
        "plt.show()\n",
        "\n",
        "#another barchart without the main one to see the other counts since the other graph showed close to zero for the other types of blood pressure\n",
        "omr_blood_pressure_filtered = omr_blood_pressure[omr_blood_pressure['result_name']!='Blood Pressure']\n",
        "sns.countplot(omr_blood_pressure_filtered, x='result_name')\n",
        "plt.xticks(rotation=45)\n",
        "plt.show()"
      ],
      "metadata": {
        "colab": {
          "base_uri": "https://localhost:8080/",
          "height": 1000
        },
        "id": "Q0CxaEkFf9Sc",
        "outputId": "f85c6b08-e219-46e2-e084-6953c69dfca3"
      },
      "execution_count": null,
      "outputs": [
        {
          "output_type": "display_data",
          "data": {
            "text/plain": [
              "<Figure size 640x480 with 1 Axes>"
            ],
            "image/png": "[encoded data removed]"
          },
          "metadata": {}
        },
        {
          "output_type": "display_data",
          "data": {
            "text/plain": [
              "<Figure size 640x480 with 1 Axes>"
            ],
            "image/png": "[encoded data removed]"
          },
          "metadata": {}
        }
      ]
    },
    {
      "cell_type": "markdown",
      "source": [
        "The results show that the mass majority is just called blood pressure with no differentiation. There are over 600,000 blood pressure and only 2,000 of the others combined"
      ],
      "metadata": {
        "id": "zNKKad97hBAt"
      }
    },
    {
      "cell_type": "code",
      "source": [
        "#since there is not as much other blood pressure results aside from the first one for our tests it would be easier to convert them all into one result name\n",
        "#consolidate all blood pressure values\n",
        "omr_filtered.loc[omr_filtered['result_name'].isin([ 'Blood Pressure Sitting', 'Blood Pressure Standing (1 min)',\n",
        " 'Blood Pressure Lying', 'Blood Pressure Standing (3 mins)',\n",
        " 'Blood Pressure Standing']), 'result_name'] = 'Blood Pressure'\n",
        "print(omr_filtered['result_name'].unique())"
      ],
      "metadata": {
        "colab": {
          "base_uri": "https://localhost:8080/"
        },
        "id": "qDjWHxDfotUH",
        "outputId": "a961fbff-de62-449e-8203-ebd65a9c02d2"
      },
      "execution_count": null,
      "outputs": [
        {
          "output_type": "stream",
          "name": "stdout",
          "text": [
            "['Blood Pressure' 'Weight (Lbs)' 'BMI' 'Height (Inches)' 'eGFR']\n"
          ]
        }
      ]
    },
    {
      "cell_type": "code",
      "source": [
        "#analysis of the omr table after modification\n",
        "print(omr_filtered.head())\n",
        "print(omr_filtered.shape)\n",
        "print(omr_filtered['seq_num'].unique())\n",
        "print(omr_filtered['subject_id'].nunique())"
      ],
      "metadata": {
        "colab": {
          "base_uri": "https://localhost:8080/"
        },
        "id": "ala9F57ENoJ3",
        "outputId": "a011ebf8-39ca-480c-da5c-208c815dbd56"
      },
      "execution_count": null,
      "outputs": [
        {
          "output_type": "stream",
          "name": "stdout",
          "text": [
            "     subject_id   chartdate  seq_num     result_name result_value\n",
            "231    10000826  2146-12-26        1  Blood Pressure        88/58\n",
            "232    10000826  2146-12-26        1    Weight (Lbs)         98.9\n",
            "233    10000826  2146-12-30        1  Blood Pressure       104/69\n",
            "234    10000826  2147-01-15        1  Blood Pressure       102/60\n",
            "235    10000826  2147-01-15        1    Weight (Lbs)       144.75\n",
            "(1940194, 5)\n",
            "[ 1  2  3  4  5  6  7  8  9 10 11 12 13 14 15 16 17 18 19 20 21 22 23 24\n",
            " 25 26 27 28 29 30 31 32 33 34 35 36 37 38 39 40]\n",
            "27291\n"
          ]
        }
      ]
    },
    {
      "cell_type": "code",
      "source": [
        "#checking for null values\n",
        "print(diagnoses_filtered.head())\n",
        "print(diagnoses_filtered.shape)\n",
        "print(diagnoses_filtered.isna().sum())\n",
        "#see how many unique values for each compared to overall size of data frame\n",
        "print(diagnoses_filtered.nunique())\n",
        "#has 96280 rows, but only 39097 different people and most someone visited is 39. see how often most people visit er.\n",
        "plt.figure(figsize=(12, 6))\n",
        "sns.countplot(diagnoses_filtered, x='seq_num')\n",
        "plt.title('Number of Visit Per Person')\n",
        "plt.show()"
      ],
      "metadata": {
        "colab": {
          "base_uri": "https://localhost:8080/",
          "height": 952
        },
        "id": "oPsCIvummO2_",
        "outputId": "492e43f0-bdf6-45f9-e3ff-a48b968e1e7a"
      },
      "execution_count": null,
      "outputs": [
        {
          "output_type": "stream",
          "name": "stdout",
          "text": [
            "     subject_id   hadm_id  seq_num icd_code  icd_version   condition\n",
            "126    10000826  20032235       14    30000            9     anxiety\n",
            "145    10000883  25221576        2    30000            9     anxiety\n",
            "147    10000883  29957930        2    30000            9     anxiety\n",
            "159    10000935  21738619        9      311            9  depression\n",
            "179    10000935  25849114       10      311            9  depression\n",
            "(96280, 6)\n",
            "subject_id     0\n",
            "hadm_id        0\n",
            "seq_num        0\n",
            "icd_code       0\n",
            "icd_version    0\n",
            "condition      0\n",
            "dtype: int64\n",
            "subject_id     39097\n",
            "hadm_id        76700\n",
            "seq_num           39\n",
            "icd_code          13\n",
            "icd_version        1\n",
            "condition          7\n",
            "dtype: int64\n"
          ]
        },
        {
          "output_type": "display_data",
          "data": {
            "text/plain": [
              "<Figure size 1200x600 with 1 Axes>"
            ],
            "image/png": "[encoded data removed]"
          },
          "metadata": {}
        }
      ]
    },
    {
      "cell_type": "markdown",
      "source": [
        "Right tailed with 6 visits for most people with one of these diagnoses. will look at each condition seperately"
      ],
      "metadata": {
        "id": "Wo-F3Dqat_hu"
      }
    },
    {
      "cell_type": "code",
      "source": [
        "#plotting for number of visits for each condition\n",
        "g = sns.FacetGrid(diagnoses_filtered, col='condition', col_wrap=3, height=4)\n",
        "\n",
        "# Plot countplots for each condition\n",
        "g.map(sns.countplot, 'seq_num' )\n",
        "\n",
        "# Set titles for each graph\n",
        "g.set_titles('{col_name}')\n",
        "\n",
        "# Set labels and adjust layout\n",
        "g.set_axis_labels(' ', 'Count')\n",
        "plt.subplots_adjust(top=0.9)\n",
        "g.fig.suptitle('Number of Visits for each condition')\n",
        "plt.gca().set_xticks(plt.gca().get_xticks()[::2])  # Leave out every second x tick label\n",
        "\n",
        "plt.show()"
      ],
      "metadata": {
        "colab": {
          "base_uri": "https://localhost:8080/",
          "height": 1000
        },
        "id": "MEaYs9i9wrBT",
        "outputId": "76e2b963-568a-4782-ecc6-9df4a3c2762e"
      },
      "execution_count": null,
      "outputs": [
        {
          "output_type": "stream",
          "name": "stderr",
          "text": [
            "/usr/local/lib/python3.10/dist-packages/seaborn/axisgrid.py:718: UserWarning: Using the countplot function without specifying `order` is likely to produce an incorrect plot.\n",
            "  warnings.warn(warning)\n"
          ]
        },
        {
          "output_type": "display_data",
          "data": {
            "text/plain": [
              "<Figure size 1200x1200 with 7 Axes>"
            ],
            "image/png": "[encoded data removed]"
          },
          "metadata": {}
        }
      ]
    },
    {
      "cell_type": "markdown",
      "source": [
        "overall the distributions are pretty similar but the greatest execption is the first visit. the amount of people that are diagnosed with hypothrodism on the first visit is very small compared to others especially depression."
      ],
      "metadata": {
        "id": "UXdTlWw7yGYt"
      }
    },
    {
      "cell_type": "code",
      "source": [
        "#coloums in the diagnoses table\n",
        "diagnoses_filtered.columns"
      ],
      "metadata": {
        "colab": {
          "base_uri": "https://localhost:8080/"
        },
        "id": "FmRP4j_22VEi",
        "outputId": "9ddd45ec-7955-42ef-f967-4c7ea32910ba"
      },
      "execution_count": null,
      "outputs": [
        {
          "output_type": "execute_result",
          "data": {
            "text/plain": [
              "Index(['subject_id', 'hadm_id', 'seq_num', 'icd_code', 'icd_version',\n",
              "       'condition'],\n",
              "      dtype='object')"
            ]
          },
          "metadata": {},
          "execution_count": 32
        }
      ]
    },
    {
      "cell_type": "code",
      "source": [
        "#will remove columns and create a reduced list with just subject id and condition\n",
        "diagnoses_reduced = diagnoses_filtered[['subject_id','condition']]\n",
        "diagnoses_reduced.shape"
      ],
      "metadata": {
        "colab": {
          "base_uri": "https://localhost:8080/"
        },
        "id": "XXpBUXyS2B_t",
        "outputId": "c4a65741-905b-4fb4-ed36-6e481ff6193c"
      },
      "execution_count": null,
      "outputs": [
        {
          "output_type": "execute_result",
          "data": {
            "text/plain": [
              "(96280, 2)"
            ]
          },
          "metadata": {},
          "execution_count": 33
        }
      ]
    },
    {
      "cell_type": "code",
      "source": [
        "#checking data and cleaning\n",
        "print(labs_chunk1_merg_filter.shape)\n",
        "print(labs_chunk1_merg_filter.isna().sum())\n",
        "data_na = pd.DataFrame(labs_chunk1_merg_filter.isna().sum()).reset_index()\n",
        "#plot missing data\n",
        "sns.barplot(data=data_na, x='index',y=0)\n",
        "plt.ticklabel_format(style='plain', axis='y')\n",
        "plt.xticks(rotation=90)\n",
        "plt.title('Count of missing data in each column')\n",
        "plt.ylabel(\"\")\n",
        "plt.xlabel(\"\")\n",
        "plt.show()\n",
        "#remove hadm_id and order_provider_id and comments too many null values"
      ],
      "metadata": {
        "colab": {
          "base_uri": "https://localhost:8080/",
          "height": 948
        },
        "id": "AbnUHnS32pD2",
        "outputId": "f1597236-1d54-469e-a7d5-bc9f28d0c505"
      },
      "execution_count": null,
      "outputs": [
        {
          "output_type": "stream",
          "name": "stdout",
          "text": [
            "(3876648, 19)\n",
            "labevent_id                0\n",
            "subject_id                 0\n",
            "hadm_id              1758880\n",
            "specimen_id                0\n",
            "itemid                     0\n",
            "order_provider_id    2879561\n",
            "charttime                  0\n",
            "storetime              65036\n",
            "value                 406174\n",
            "valuenum              574356\n",
            "valueuom              569596\n",
            "ref_range_lower       703558\n",
            "ref_range_upper       703558\n",
            "flag                 2724749\n",
            "priority              173821\n",
            "comments             3186220\n",
            "label                      0\n",
            "fluid                      0\n",
            "category                   0\n",
            "dtype: int64\n"
          ]
        },
        {
          "output_type": "display_data",
          "data": {
            "text/plain": [
              "<Figure size 640x480 with 1 Axes>"
            ],
            "image/png": "[encoded data removed]"
          },
          "metadata": {}
        }
      ]
    },
    {
      "cell_type": "code",
      "source": [
        "#remove hadm_id','order_provider_id','comments' too many null values not useful. will also drop timings for now.\n",
        "#also remove ref range lower and upper for now. bec seems like if not in range it's flagged as abnormal go off that value for now.\n",
        "labs_chunk1_merg_filter =labs_chunk1_merg_filter.drop(['hadm_id','order_provider_id',\n",
        "                                                       'comments', 'charttime','storetime','ref_range_lower','ref_range_upper'],axis = 1)\n"
      ],
      "metadata": {
        "id": "llniU3LO5BOS"
      },
      "execution_count": null,
      "outputs": []
    },
    {
      "cell_type": "code",
      "source": [
        "#analysis of the altered table from above\n",
        "print(labs_chunk1_merg_filter.shape)\n",
        "print(labs_chunk1_merg_filter.info())\n",
        "print(labs_chunk1_merg_filter.nunique())\n"
      ],
      "metadata": {
        "colab": {
          "base_uri": "https://localhost:8080/"
        },
        "id": "zRAgnEnw6-79",
        "outputId": "1bfd4482-c439-4068-907f-34b1df244b73"
      },
      "execution_count": null,
      "outputs": [
        {
          "output_type": "stream",
          "name": "stdout",
          "text": [
            "(3876648, 12)\n",
            "<class 'pandas.core.frame.DataFrame'>\n",
            "Index: 3876648 entries, 2643 to 11819999\n",
            "Data columns (total 12 columns):\n",
            " #   Column       Dtype  \n",
            "---  ------       -----  \n",
            " 0   labevent_id  int64  \n",
            " 1   subject_id   int64  \n",
            " 2   specimen_id  int64  \n",
            " 3   itemid       int64  \n",
            " 4   value        object \n",
            " 5   valuenum     float64\n",
            " 6   valueuom     object \n",
            " 7   flag         object \n",
            " 8   priority     object \n",
            " 9   label        object \n",
            " 10  fluid        object \n",
            " 11  category     object \n",
            "dtypes: float64(1), int64(4), object(7)\n",
            "memory usage: 384.5+ MB\n",
            "None\n",
            "labevent_id    3876648\n",
            "subject_id        3881\n",
            "specimen_id     443931\n",
            "itemid             825\n",
            "value             9053\n",
            "valuenum         10377\n",
            "valueuom            56\n",
            "flag                 1\n",
            "priority             2\n",
            "label              650\n",
            "fluid                9\n",
            "category             3\n",
            "dtype: int64\n"
          ]
        }
      ]
    },
    {
      "cell_type": "code",
      "source": [
        "print(labs_chunk1_merg_filter['priority'].unique())\n",
        "#change all 'priority' nan's to routine bec if not stat label prob routine\n",
        "labs_chunk1_merg_filter['priority'] = labs_chunk1_merg_filter['priority'].fillna('ROUTINE')\n",
        "print(labs_chunk1_merg_filter['flag'].unique())\n",
        "#change all flag nan's to normal bec if not flagged as abnormal then its normal\n",
        "labs_chunk1_merg_filter['flag'] = labs_chunk1_merg_filter['flag'].fillna('normal')\n",
        "#check if null values were removed\n",
        "print(labs_chunk1_merg_filter.isna().sum())"
      ],
      "metadata": {
        "colab": {
          "base_uri": "https://localhost:8080/"
        },
        "id": "i74_15aR8Wl5",
        "outputId": "fbe9a64f-d741-4a87-bb6b-63b98dccf405"
      },
      "execution_count": null,
      "outputs": [
        {
          "output_type": "stream",
          "name": "stdout",
          "text": [
            "['STAT' nan 'ROUTINE']\n",
            "[nan 'abnormal']\n",
            "labevent_id         0\n",
            "subject_id          0\n",
            "specimen_id         0\n",
            "itemid              0\n",
            "value          406174\n",
            "valuenum       574356\n",
            "valueuom       569596\n",
            "flag                0\n",
            "priority            0\n",
            "label               0\n",
            "fluid               0\n",
            "category            0\n",
            "dtype: int64\n"
          ]
        }
      ]
    },
    {
      "cell_type": "code",
      "source": [
        "#finding all unique values\n",
        "values = labs_chunk1_merg_filter['value'].unique()"
      ],
      "metadata": {
        "id": "7u_4I2zi95k0"
      },
      "execution_count": null,
      "outputs": []
    },
    {
      "cell_type": "code",
      "source": [
        "print((labs_chunk1_merg_filter['value'] == 'HOLD.  DISCARD GREATER THAN 24 HRS OLD.').sum())\n",
        "#remove all rows of old labs not usable\n",
        "labs_chunk1_merg_filter = labs_chunk1_merg_filter[labs_chunk1_merg_filter['value'] != 'HOLD.  DISCARD GREATER THAN 24 HRS OLD.']\n",
        "#validate that were dropped\n",
        "print((labs_chunk1_merg_filter['value'] == 'HOLD.  DISCARD GREATER THAN 24 HRS OLD.').sum())"
      ],
      "metadata": {
        "colab": {
          "base_uri": "https://localhost:8080/"
        },
        "id": "V-c0UF4v-ClS",
        "outputId": "3d126e25-e85d-4b0c-fb85-f08a8baafb26"
      },
      "execution_count": null,
      "outputs": [
        {
          "output_type": "stream",
          "name": "stdout",
          "text": [
            "9229\n",
            "0\n"
          ]
        }
      ]
    },
    {
      "cell_type": "code",
      "source": [
        "values = labs_chunk1_merg_filter['value'].unique()"
      ],
      "metadata": {
        "id": "94Cl0kiXTdtu"
      },
      "execution_count": null,
      "outputs": []
    },
    {
      "cell_type": "code",
      "source": [
        "#extract all that are not numeric and see how can handle them\n",
        "print(len(values))\n",
        "# Assuming 'values' is your list\n",
        "non_numeric_values = [value for value in values if not (isinstance(value, float) or value.isdigit())]\n",
        "\n",
        "print(len(non_numeric_values))"
      ],
      "metadata": {
        "colab": {
          "base_uri": "https://localhost:8080/"
        },
        "id": "Ku9O7ST0Q1D9",
        "outputId": "ca75c492-a22e-4230-c91c-7b7e2fa938ff"
      },
      "execution_count": null,
      "outputs": [
        {
          "output_type": "stream",
          "name": "stdout",
          "text": [
            "9053\n",
            "5035\n"
          ]
        }
      ]
    },
    {
      "cell_type": "code",
      "source": [
        "#also remove fluid and category columns as well as lab event speciment and. will remove value columns as\n",
        "# numeric values are in next column and not able to work with non numeric values now.\n",
        "labs_chunk1_merg_filter =labs_chunk1_merg_filter.drop(['fluid','category',\n",
        "                                                       'labevent_id', 'specimen_id','value'],axis = 1)\n",
        "print(labs_chunk1_merg_filter.head())"
      ],
      "metadata": {
        "colab": {
          "base_uri": "https://localhost:8080/"
        },
        "id": "pAYgdzb8Rh4r",
        "outputId": "fd36f481-5dd1-4bbf-acca-2cbd4e6959c7"
      },
      "execution_count": null,
      "outputs": [
        {
          "output_type": "stream",
          "name": "stdout",
          "text": [
            "      subject_id  itemid  valuenum valueuom      flag priority  \\\n",
            "2644    10000826   50955       NaN      NaN    normal     STAT   \n",
            "2645    10000826   51237       1.3      NaN  abnormal     STAT   \n",
            "2646    10000826   51274      15.2      sec  abnormal     STAT   \n",
            "2647    10000826   51275      26.0      sec    normal     STAT   \n",
            "2648    10000826   51146       1.7        %    normal     STAT   \n",
            "\n",
            "                     label  \n",
            "2644  Light Green Top Hold  \n",
            "2645               INR(PT)  \n",
            "2646                    PT  \n",
            "2647                   PTT  \n",
            "2648             Basophils  \n"
          ]
        }
      ]
    },
    {
      "cell_type": "code",
      "source": [
        "filtered_df = labs_chunk1_merg_filter"
      ],
      "metadata": {
        "id": "-86lLXAemfZI"
      },
      "execution_count": null,
      "outputs": []
    },
    {
      "cell_type": "code",
      "source": [
        "#Really should go through all and see which ones are for sure not related now don't have much time\n",
        "#will just go with if flagged and not with actual numbers\n",
        "#actual label not important for model can recombine it afterwards but save a copy with label\n",
        "filtered_df = labs_chunk1_merg_filter\n",
        "labs_chunk1_merg_filter =labs_chunk1_merg_filter.drop(['valuenum', 'valueuom','label' ],axis = 1)\n",
        "print(labs_chunk1_merg_filter.head())"
      ],
      "metadata": {
        "colab": {
          "base_uri": "https://localhost:8080/"
        },
        "id": "DYQh7MPGRvjD",
        "outputId": "a4b7d71d-a601-4e54-e716-689501a33b11"
      },
      "execution_count": null,
      "outputs": [
        {
          "output_type": "stream",
          "name": "stdout",
          "text": [
            "      subject_id  itemid      flag priority\n",
            "2644    10000826   50955    normal     STAT\n",
            "2645    10000826   51237  abnormal     STAT\n",
            "2646    10000826   51274  abnormal     STAT\n",
            "2647    10000826   51275    normal     STAT\n",
            "2648    10000826   51146    normal     STAT\n"
          ]
        }
      ]
    },
    {
      "cell_type": "code",
      "source": [
        "#combine with diagnoses table and omr on subject id\n",
        "merged_labdg = pd.merge(labs_chunk1_merg_filter, diagnoses_reduced, on='subject_id', how='left')\n",
        "print(merged_labdg.head())"
      ],
      "metadata": {
        "colab": {
          "base_uri": "https://localhost:8080/"
        },
        "id": "rZnmyfLyiQ6-",
        "outputId": "dd261a6d-da77-4671-e6e5-c47c9fc52452"
      },
      "execution_count": null,
      "outputs": [
        {
          "output_type": "stream",
          "name": "stdout",
          "text": [
            "   subject_id  itemid      flag priority condition\n",
            "0    10000826   50955    normal     STAT   anxiety\n",
            "1    10000826   51237  abnormal     STAT   anxiety\n",
            "2    10000826   51274  abnormal     STAT   anxiety\n",
            "3    10000826   51275    normal     STAT   anxiety\n",
            "4    10000826   51146    normal     STAT   anxiety\n"
          ]
        }
      ]
    },
    {
      "cell_type": "code",
      "source": [
        "#only keep ones that were flagged as abnormal\n",
        "merged_labdg = merged_labdg[merged_labdg['flag'] == 'abnormal']\n",
        "#create copy bec will remove values from first list\n",
        "merged_labdg_full = merged_labdg"
      ],
      "metadata": {
        "id": "V5ubqnUTiX-d"
      },
      "execution_count": null,
      "outputs": []
    },
    {
      "cell_type": "code",
      "source": [
        "#run loop to retrun the the top 20 tests with abnormal result that have hypothrodism\n",
        "# Initialize an empty list to store the mode for 'hypothyroidism' for each round\n",
        "mode_list = []\n",
        "hypo_mode_list = []\n",
        "\n",
        "# Loop for 20 rounds\n",
        "for i in range(1, 21):\n",
        "\n",
        "    # Group by 'condition' and find the mode of 'itemid' for each condition\n",
        "    stats = merged_labdg.groupby('condition')['itemid'].agg(mode=lambda x: x.mode().iloc[0])\n",
        "\n",
        "    # Append the mode for 'hypothyroidism' to the list\n",
        "    stats.reset_index(inplace=True)\n",
        "    hypothyroidism_mode = stats.iloc[5,1]\n",
        "    mode_list.append(stats)\n",
        "    hypo_mode_list.append(hypothyroidism_mode)\n",
        "\n",
        "    # Remove rows where 'itemid' is equal to the mode for 'hypothyroidism'\n",
        "    merged_labdg = merged_labdg[merged_labdg['itemid'] != hypothyroidism_mode]\n",
        "\n",
        "\n",
        "# Print the DataFrame\n",
        "print(hypo_mode_list)"
      ],
      "metadata": {
        "colab": {
          "base_uri": "https://localhost:8080/"
        },
        "id": "8ssv2AT7isM1",
        "outputId": "b2e28cb5-6cdf-4dde-d895-472e28815a60"
      },
      "execution_count": null,
      "outputs": [
        {
          "output_type": "stream",
          "name": "stdout",
          "text": [
            "[51279, 51221, 51222, 50931, 51006, 51277, 50912, 51248, 51237, 51274, 51301, 51250, 50893, 51265, 51249, 50902, 50970, 51256, 50882, 52172]\n"
          ]
        }
      ]
    },
    {
      "cell_type": "code",
      "source": [
        "with_labels = filtered_df[filtered_df['itemid'].isin(hypo_mode_list)]\n",
        "#combine with diagnoses table on subject id\n",
        "with_labels = pd.merge(with_labels, diagnoses_reduced, on='subject_id', how='left')\n",
        "print(with_labels['label'].unique())"
      ],
      "metadata": {
        "colab": {
          "base_uri": "https://localhost:8080/"
        },
        "id": "cUXp0PMFi9md",
        "outputId": "65f8be55-554f-4ad1-b5a9-44fbe78ac4c8"
      },
      "execution_count": null,
      "outputs": [
        {
          "output_type": "stream",
          "name": "stdout",
          "text": [
            "['INR(PT)' 'PT' 'Hematocrit' 'Hemoglobin' 'MCH' 'MCHC' 'MCV' 'Neutrophils'\n",
            " 'Platelet Count' 'RDW' 'Red Blood Cells' 'White Blood Cells'\n",
            " 'Bicarbonate' 'Chloride' 'Creatinine' 'Glucose' 'Urea Nitrogen'\n",
            " 'Calcium, Total' 'Phosphate' 'RDW-SD']\n"
          ]
        }
      ]
    },
    {
      "cell_type": "code",
      "source": [
        "#filter list for these 20 lab item ids\n",
        "labs_chunk1_merg_filter = merged_labdg_full[merged_labdg_full['itemid'].isin(hypo_mode_list)]\n",
        "#print(filtered_merged_labdg.shape)"
      ],
      "metadata": {
        "id": "BgSV05RUjT8-"
      },
      "execution_count": null,
      "outputs": []
    },
    {
      "cell_type": "code",
      "source": [
        "#filter to only the ones which are abnormal and try to see which tests with abnormal reslults can predict hypothrodism\n",
        "labs_chunk1_merg_filter = labs_chunk1_merg_filter[labs_chunk1_merg_filter['flag'] == 'abnormal']\n",
        "print(labs_chunk1_merg_filter.shape)\n",
        "#drop flag column since only have abnormal now\n",
        "labs_chunk1_merg_filter =labs_chunk1_merg_filter.drop(['flag'],axis = 1)\n",
        "#turn priority column stat into 1\n",
        "# Define the mapping dictionary\n",
        "priority_mapping = {'STAT': 1, 'ROUTINE': 0}\n",
        "\n",
        "# Replace values using the mapping dictionary\n",
        "labs_chunk1_merg_filter['priority'] = labs_chunk1_merg_filter['priority'].replace(priority_mapping)\n",
        "\n",
        "# Print unique values to verify the transformation\n",
        "print(labs_chunk1_merg_filter['priority'].unique())\n",
        "\n",
        "#change name to priority_stat\n",
        "labs_chunk1_merg_filter = labs_chunk1_merg_filter.rename(columns={'priority': 'priority_stat'})\n",
        "\n",
        "# Print the updated DataFrame to verify the change\n",
        "print(labs_chunk1_merg_filter.head())"
      ],
      "metadata": {
        "colab": {
          "base_uri": "https://localhost:8080/"
        },
        "id": "IAIX0WqaR5AD",
        "outputId": "7f38b4c3-0086-4e90-8ac6-26ecb80f24b8"
      },
      "execution_count": null,
      "outputs": [
        {
          "output_type": "stream",
          "name": "stdout",
          "text": [
            "(4574979, 5)\n",
            "[1 0]\n",
            "    subject_id  itemid  priority_stat condition\n",
            "1     10000826   51237              1   anxiety\n",
            "2     10000826   51274              1   anxiety\n",
            "9     10000826   51248              1   anxiety\n",
            "11    10000826   51250              1   anxiety\n",
            "13    10000826   51256              1   anxiety\n"
          ]
        }
      ]
    },
    {
      "cell_type": "code",
      "source": [
        "print(labs_chunk1_merg_filter.head())"
      ],
      "metadata": {
        "colab": {
          "base_uri": "https://localhost:8080/"
        },
        "id": "I47If-C154t6",
        "outputId": "6ab286b8-1160-4a20-fa1e-0d5d34ee32a7"
      },
      "execution_count": null,
      "outputs": [
        {
          "output_type": "stream",
          "name": "stdout",
          "text": [
            "    subject_id  itemid  priority_stat condition\n",
            "1     10000826   51237              1   anxiety\n",
            "2     10000826   51274              1   anxiety\n",
            "9     10000826   51248              1   anxiety\n",
            "11    10000826   51250              1   anxiety\n",
            "13    10000826   51256              1   anxiety\n"
          ]
        }
      ]
    },
    {
      "cell_type": "code",
      "source": [
        "#turned omr into a pivot table\n",
        "pivot_omr = omr_filtered.pivot_table(index = ['subject_id','chartdate'], columns='result_name', values='result_value', aggfunc='first').reset_index()"
      ],
      "metadata": {
        "id": "8YfKI_ruCbv-"
      },
      "execution_count": null,
      "outputs": []
    },
    {
      "cell_type": "code",
      "source": [
        "pivot_omr[['systolic_pressure', 'diastolic_pressure']] = pivot_omr['Blood Pressure'].str.split('/', expand=True)\n",
        "pivot_omr.drop(columns=['chartdate','Blood Pressure'], inplace=True)"
      ],
      "metadata": {
        "id": "NtKnlxxGBPBb"
      },
      "execution_count": null,
      "outputs": []
    },
    {
      "cell_type": "code",
      "source": [
        "#remove duplicates of original diagnoses column\n",
        "diagnoses_reduced.drop_duplicates(inplace=True)\n",
        "print(len(diagnoses_reduced))"
      ],
      "metadata": {
        "colab": {
          "base_uri": "https://localhost:8080/"
        },
        "id": "Azm--CCjOLY0",
        "outputId": "c1408e2d-e337-42a6-e3fa-0dc95dd2b84a"
      },
      "execution_count": null,
      "outputs": [
        {
          "output_type": "stream",
          "name": "stdout",
          "text": [
            "53411\n"
          ]
        },
        {
          "output_type": "stream",
          "name": "stderr",
          "text": [
            "<ipython-input-54-b8dc8d70162b>:2: SettingWithCopyWarning: \n",
            "A value is trying to be set on a copy of a slice from a DataFrame\n",
            "\n",
            "See the caveats in the documentation: https://pandas.pydata.org/pandas-docs/stable/user_guide/indexing.html#returning-a-view-versus-a-copy\n",
            "  diagnoses_reduced.drop_duplicates(inplace=True)\n"
          ]
        }
      ]
    },
    {
      "cell_type": "code",
      "source": [
        "#group by each subject and date and remove data and height weight as have bmi\n",
        "omr_red = pivot_omr.groupby(['subject_id'])\n",
        "omr_red = pivot_omr[['subject_id','BMI', 'systolic_pressure', 'diastolic_pressure','eGFR']]\n",
        "print(omr_red)"
      ],
      "metadata": {
        "colab": {
          "base_uri": "https://localhost:8080/"
        },
        "id": "lMhNSrp7MZhO",
        "outputId": "a12b486d-a701-42ed-c21b-cb7808082f1d"
      },
      "execution_count": null,
      "outputs": [
        {
          "output_type": "stream",
          "name": "stdout",
          "text": [
            "result_name  subject_id   BMI systolic_pressure diastolic_pressure eGFR\n",
            "0              10000826   NaN                88                 58  NaN\n",
            "1              10000826   NaN               104                 69  NaN\n",
            "2              10000826   NaN               102                 60  NaN\n",
            "3              10000826   NaN                90                 60  NaN\n",
            "4              10000826   NaN               101                 64  NaN\n",
            "...                 ...   ...               ...                ...  ...\n",
            "683924         19999442  26.3               122                 82  NaN\n",
            "683925         19999442  27.6               NaN                NaN  NaN\n",
            "683926         19999625   NaN               NaN                NaN  NaN\n",
            "683927         19999625   NaN               100                 60  NaN\n",
            "683928         19999625   NaN                98                 60  NaN\n",
            "\n",
            "[683929 rows x 5 columns]\n"
          ]
        }
      ]
    },
    {
      "cell_type": "code",
      "source": [
        "print(omr_red.isna().sum())\n",
        "#will needto figure out how each person only have one line but for now fill na to 0 to run model\n",
        "omr_red.fillna(0, inplace=True)\n",
        "print(omr_red.isna().sum())"
      ],
      "metadata": {
        "colab": {
          "base_uri": "https://localhost:8080/"
        },
        "id": "ylwhXKhzO84a",
        "outputId": "ca824c15-22da-4515-84cd-e34c1748b9aa"
      },
      "execution_count": null,
      "outputs": [
        {
          "output_type": "stream",
          "name": "stdout",
          "text": [
            "result_name\n",
            "subject_id                 0\n",
            "BMI                   190603\n",
            "systolic_pressure      55400\n",
            "diastolic_pressure     55400\n",
            "eGFR                  683848\n",
            "dtype: int64\n",
            "result_name\n",
            "subject_id            0\n",
            "BMI                   0\n",
            "systolic_pressure     0\n",
            "diastolic_pressure    0\n",
            "eGFR                  0\n",
            "dtype: int64\n"
          ]
        },
        {
          "output_type": "stream",
          "name": "stderr",
          "text": [
            "<ipython-input-75-8ed953c2ec69>:3: SettingWithCopyWarning: \n",
            "A value is trying to be set on a copy of a slice from a DataFrame\n",
            "\n",
            "See the caveats in the documentation: https://pandas.pydata.org/pandas-docs/stable/user_guide/indexing.html#returning-a-view-versus-a-copy\n",
            "  omr_red.fillna(0, inplace=True)\n"
          ]
        }
      ]
    },
    {
      "cell_type": "code",
      "source": [
        "#analysis of the omr_red table\n",
        "print(omr_red.info())"
      ],
      "metadata": {
        "colab": {
          "base_uri": "https://localhost:8080/"
        },
        "id": "iedX7cGTC92z",
        "outputId": "30fc5890-ce8d-437b-9744-aa16c597313f"
      },
      "execution_count": null,
      "outputs": [
        {
          "output_type": "stream",
          "name": "stdout",
          "text": [
            "<class 'pandas.core.frame.DataFrame'>\n",
            "RangeIndex: 683929 entries, 0 to 683928\n",
            "Data columns (total 5 columns):\n",
            " #   Column              Non-Null Count   Dtype \n",
            "---  ------              --------------   ----- \n",
            " 0   subject_id          683929 non-null  int64 \n",
            " 1   BMI                 683929 non-null  object\n",
            " 2   systolic_pressure   683929 non-null  object\n",
            " 3   diastolic_pressure  683929 non-null  object\n",
            " 4   eGFR                683929 non-null  object\n",
            "dtypes: int64(1), object(4)\n",
            "memory usage: 26.1+ MB\n",
            "None\n"
          ]
        }
      ]
    },
    {
      "cell_type": "code",
      "source": [
        "#cleaning data so that it is all nuemeric\n",
        "omr_red['BMI'] = omr_red['BMI'].str.replace(r'\\D', '')\n",
        "omr_red.fillna(0, inplace=True)\n",
        "omr_red['BMI'] = pd.to_numeric(omr_red['BMI'],errors='coerce')"
      ],
      "metadata": {
        "colab": {
          "base_uri": "https://localhost:8080/"
        },
        "id": "-HLgs4U1DUkT",
        "outputId": "ddeff46d-a0ee-48b7-c122-0ab3aaa7c4dd"
      },
      "execution_count": null,
      "outputs": [
        {
          "output_type": "stream",
          "name": "stderr",
          "text": [
            "<ipython-input-89-29c9b7a24ebf>:1: SettingWithCopyWarning: \n",
            "A value is trying to be set on a copy of a slice from a DataFrame.\n",
            "Try using .loc[row_indexer,col_indexer] = value instead\n",
            "\n",
            "See the caveats in the documentation: https://pandas.pydata.org/pandas-docs/stable/user_guide/indexing.html#returning-a-view-versus-a-copy\n",
            "  omr_red['BMI'] = omr_red['BMI'].str.replace(r'\\D', '')\n",
            "<ipython-input-89-29c9b7a24ebf>:2: SettingWithCopyWarning: \n",
            "A value is trying to be set on a copy of a slice from a DataFrame\n",
            "\n",
            "See the caveats in the documentation: https://pandas.pydata.org/pandas-docs/stable/user_guide/indexing.html#returning-a-view-versus-a-copy\n",
            "  omr_red.fillna(0, inplace=True)\n",
            "<ipython-input-89-29c9b7a24ebf>:3: SettingWithCopyWarning: \n",
            "A value is trying to be set on a copy of a slice from a DataFrame.\n",
            "Try using .loc[row_indexer,col_indexer] = value instead\n",
            "\n",
            "See the caveats in the documentation: https://pandas.pydata.org/pandas-docs/stable/user_guide/indexing.html#returning-a-view-versus-a-copy\n",
            "  omr_red['BMI'] = pd.to_numeric(omr_red['BMI'],errors='coerce')\n"
          ]
        }
      ]
    },
    {
      "cell_type": "code",
      "source": [
        "#convet all other columns to numeric\n",
        "omr_red['systolic_pressure'] = omr_red['systolic_pressure'].str.replace(r'\\D', '')\n",
        "omr_red.fillna(0, inplace=True)\n",
        "omr_red['systolic_pressure'] = pd.to_numeric(omr_red['systolic_pressure'],errors='coerce')\n",
        "#diastolic pressure\n",
        "omr_red['diastolic_pressure'] = omr_red['diastolic_pressure'].str.replace(r'\\D', '')\n",
        "omr_red.fillna(0, inplace=True)\n",
        "omr_red['diastolic_pressure'] = pd.to_numeric(omr_red['diastolic_pressure'],errors='coerce')\n",
        "#egfr\n",
        "omr_red['eGFR'] = omr_red['eGFR'].str.replace(r'\\D', '')\n",
        "omr_red.fillna(0, inplace=True)\n",
        "omr_red['eGFR'] = pd.to_numeric(omr_red['eGFR'],errors='coerce')"
      ],
      "metadata": {
        "colab": {
          "base_uri": "https://localhost:8080/"
        },
        "id": "l8mYcldAE4gV",
        "outputId": "3f5f3470-a160-4a6c-e6d7-99c35f7f03f8"
      },
      "execution_count": null,
      "outputs": [
        {
          "output_type": "stream",
          "name": "stderr",
          "text": [
            "<ipython-input-90-ac07d4fb4501>:2: SettingWithCopyWarning: \n",
            "A value is trying to be set on a copy of a slice from a DataFrame.\n",
            "Try using .loc[row_indexer,col_indexer] = value instead\n",
            "\n",
            "See the caveats in the documentation: https://pandas.pydata.org/pandas-docs/stable/user_guide/indexing.html#returning-a-view-versus-a-copy\n",
            "  omr_red['systolic_pressure'] = omr_red['systolic_pressure'].str.replace(r'\\D', '')\n",
            "<ipython-input-90-ac07d4fb4501>:3: SettingWithCopyWarning: \n",
            "A value is trying to be set on a copy of a slice from a DataFrame\n",
            "\n",
            "See the caveats in the documentation: https://pandas.pydata.org/pandas-docs/stable/user_guide/indexing.html#returning-a-view-versus-a-copy\n",
            "  omr_red.fillna(0, inplace=True)\n",
            "<ipython-input-90-ac07d4fb4501>:4: SettingWithCopyWarning: \n",
            "A value is trying to be set on a copy of a slice from a DataFrame.\n",
            "Try using .loc[row_indexer,col_indexer] = value instead\n",
            "\n",
            "See the caveats in the documentation: https://pandas.pydata.org/pandas-docs/stable/user_guide/indexing.html#returning-a-view-versus-a-copy\n",
            "  omr_red['systolic_pressure'] = pd.to_numeric(omr_red['systolic_pressure'],errors='coerce')\n",
            "<ipython-input-90-ac07d4fb4501>:6: SettingWithCopyWarning: \n",
            "A value is trying to be set on a copy of a slice from a DataFrame.\n",
            "Try using .loc[row_indexer,col_indexer] = value instead\n",
            "\n",
            "See the caveats in the documentation: https://pandas.pydata.org/pandas-docs/stable/user_guide/indexing.html#returning-a-view-versus-a-copy\n",
            "  omr_red['diastolic_pressure'] = omr_red['diastolic_pressure'].str.replace(r'\\D', '')\n",
            "<ipython-input-90-ac07d4fb4501>:7: SettingWithCopyWarning: \n",
            "A value is trying to be set on a copy of a slice from a DataFrame\n",
            "\n",
            "See the caveats in the documentation: https://pandas.pydata.org/pandas-docs/stable/user_guide/indexing.html#returning-a-view-versus-a-copy\n",
            "  omr_red.fillna(0, inplace=True)\n",
            "<ipython-input-90-ac07d4fb4501>:8: SettingWithCopyWarning: \n",
            "A value is trying to be set on a copy of a slice from a DataFrame.\n",
            "Try using .loc[row_indexer,col_indexer] = value instead\n",
            "\n",
            "See the caveats in the documentation: https://pandas.pydata.org/pandas-docs/stable/user_guide/indexing.html#returning-a-view-versus-a-copy\n",
            "  omr_red['diastolic_pressure'] = pd.to_numeric(omr_red['diastolic_pressure'],errors='coerce')\n",
            "<ipython-input-90-ac07d4fb4501>:10: SettingWithCopyWarning: \n",
            "A value is trying to be set on a copy of a slice from a DataFrame.\n",
            "Try using .loc[row_indexer,col_indexer] = value instead\n",
            "\n",
            "See the caveats in the documentation: https://pandas.pydata.org/pandas-docs/stable/user_guide/indexing.html#returning-a-view-versus-a-copy\n",
            "  omr_red['eGFR'] = omr_red['eGFR'].str.replace(r'\\D', '')\n",
            "<ipython-input-90-ac07d4fb4501>:11: SettingWithCopyWarning: \n",
            "A value is trying to be set on a copy of a slice from a DataFrame\n",
            "\n",
            "See the caveats in the documentation: https://pandas.pydata.org/pandas-docs/stable/user_guide/indexing.html#returning-a-view-versus-a-copy\n",
            "  omr_red.fillna(0, inplace=True)\n",
            "<ipython-input-90-ac07d4fb4501>:12: SettingWithCopyWarning: \n",
            "A value is trying to be set on a copy of a slice from a DataFrame.\n",
            "Try using .loc[row_indexer,col_indexer] = value instead\n",
            "\n",
            "See the caveats in the documentation: https://pandas.pydata.org/pandas-docs/stable/user_guide/indexing.html#returning-a-view-versus-a-copy\n",
            "  omr_red['eGFR'] = pd.to_numeric(omr_red['eGFR'],errors='coerce')\n"
          ]
        }
      ]
    },
    {
      "cell_type": "code",
      "source": [
        "#merge omr with diagnoses\n",
        "merged_omr = pd.merge(omr_red, diagnoses_reduced, on='subject_id', how='left')\n",
        "#change condition to boolean\n",
        "merged_omr['condition'] = merged_omr['condition'].apply(lambda x: 1 if x == 'hypothyroidism' else 0)\n",
        "print(merged_omr.head())"
      ],
      "metadata": {
        "colab": {
          "base_uri": "https://localhost:8080/"
        },
        "id": "40rwg98wOGTU",
        "outputId": "e07a441f-4084-4587-acc2-9d990a17408c"
      },
      "execution_count": null,
      "outputs": [
        {
          "output_type": "stream",
          "name": "stdout",
          "text": [
            "   subject_id  BMI  systolic_pressure  diastolic_pressure  eGFR  condition\n",
            "0    10000826  0.0                 88                  58   0.0          0\n",
            "1    10000826  0.0                104                  69   0.0          0\n",
            "2    10000826  0.0                102                  60   0.0          0\n",
            "3    10000826  0.0                 90                  60   0.0          0\n",
            "4    10000826  0.0                101                  64   0.0          0\n"
          ]
        }
      ]
    },
    {
      "cell_type": "code",
      "source": [
        "#checking to make sure all the null values are filled with zeros for the model\n",
        "merged_omr.fillna(0, inplace=True)\n",
        "print(merged_omr.isna().sum())"
      ],
      "metadata": {
        "colab": {
          "base_uri": "https://localhost:8080/"
        },
        "id": "lq_thwRNGJfp",
        "outputId": "f3756588-bc8f-4d0a-faa1-2d0225a9cacd"
      },
      "execution_count": null,
      "outputs": [
        {
          "output_type": "stream",
          "name": "stdout",
          "text": [
            "subject_id            0\n",
            "BMI                   0\n",
            "systolic_pressure     0\n",
            "diastolic_pressure    0\n",
            "eGFR                  9\n",
            "condition             0\n",
            "dtype: int64\n",
            "subject_id            0\n",
            "BMI                   0\n",
            "systolic_pressure     0\n",
            "diastolic_pressure    0\n",
            "eGFR                  0\n",
            "condition             0\n",
            "dtype: int64\n"
          ]
        }
      ]
    },
    {
      "cell_type": "code",
      "source": [
        "#change condition to boolean\n",
        "labs_chunk1_merg_filter['condition'] = labs_chunk1_merg_filter['condition'].apply(lambda x: 1 if x == 'hypothyroidism' else 0)\n",
        "#merged_labdg = pd.merge(labs_chunk1_merg_filter, diagnoses_reduced, on='subject_id', how='left')\n",
        "merged_labdg = labs_chunk1_merg_filter\n",
        "print(merged_labdg.head())"
      ],
      "metadata": {
        "colab": {
          "base_uri": "https://localhost:8080/"
        },
        "id": "UrDZnflQpgtc",
        "outputId": "b6bba30b-e0d7-42ed-db58-5f2373dca302"
      },
      "execution_count": null,
      "outputs": [
        {
          "output_type": "stream",
          "name": "stdout",
          "text": [
            "    subject_id  itemid  priority_stat  condition\n",
            "1     10000826   51237              1          0\n",
            "2     10000826   51274              1          0\n",
            "9     10000826   51248              1          0\n",
            "11    10000826   51250              1          0\n",
            "13    10000826   51256              1          0\n"
          ]
        }
      ]
    },
    {
      "cell_type": "code",
      "source": [
        "#divide merged_labdg and merged_omr into testing and training groups\n",
        "#but remember to keep each subject id in one of the groups\n",
        "from sklearn.model_selection import train_test_split\n",
        "# Split id's into training and testing sets for when split data\n",
        "X_trainid, X_testid = train_test_split(subject_id_list, test_size=0.25, random_state=42)\n",
        "# Print the shapes of the training and testing sets\n",
        "print(X_trainid.shape)\n",
        "print(X_testid.shape)"
      ],
      "metadata": {
        "colab": {
          "base_uri": "https://localhost:8080/"
        },
        "id": "LrbYPt8sWPLb",
        "outputId": "1a2b0741-5018-4324-becf-36326ef747c3"
      },
      "execution_count": null,
      "outputs": [
        {
          "output_type": "stream",
          "name": "stdout",
          "text": [
            "(72210,)\n",
            "(24070,)\n"
          ]
        }
      ]
    },
    {
      "cell_type": "code",
      "source": [
        "#split merged_labdg according to id to ensure that each person stays in one group\n",
        "X_train_labs = merged_labdg[merged_labdg['subject_id'].isin(X_trainid)]\n",
        "X_test_labs = merged_labdg[~merged_labdg['subject_id'].isin(X_trainid)]\n",
        "print(X_train_labs.shape)\n",
        "print(X_test_labs.shape)"
      ],
      "metadata": {
        "colab": {
          "base_uri": "https://localhost:8080/"
        },
        "id": "f1ptPpq-sG81",
        "outputId": "64c6a5ee-ade2-41b5-d096-114b129fe65d"
      },
      "execution_count": null,
      "outputs": [
        {
          "output_type": "stream",
          "name": "stdout",
          "text": [
            "(4484971, 4)\n",
            "(90008, 4)\n"
          ]
        }
      ]
    },
    {
      "cell_type": "code",
      "source": [
        "#split merged_omr according to id to ensure that each person stays in one group\n",
        "X_train_omr = merged_omr[merged_omr['subject_id'].isin(X_trainid)]\n",
        "X_test_omr = merged_omr[~merged_omr['subject_id'].isin(X_trainid)]\n",
        "print(X_train_omr.shape)\n",
        "print(X_test_omr.shape)"
      ],
      "metadata": {
        "colab": {
          "base_uri": "https://localhost:8080/"
        },
        "outputId": "4924a9a3-cad9-49f3-b4ab-0dd1781eae5f",
        "id": "jel7vi92srr9"
      },
      "execution_count": null,
      "outputs": [
        {
          "output_type": "stream",
          "name": "stdout",
          "text": [
            "(992610, 6)\n",
            "(77957, 6)\n"
          ]
        }
      ]
    },
    {
      "cell_type": "code",
      "source": [
        "#divide each into x and y. Y being condition\n",
        "y_train_omr = X_train_omr['condition']\n",
        "y_test_omr = X_test_omr['condition']\n",
        "y_train_labs = X_train_labs['condition']\n",
        "y_test_labs = X_test_labs['condition']"
      ],
      "metadata": {
        "id": "RWMErDcoWmVq"
      },
      "execution_count": null,
      "outputs": []
    },
    {
      "cell_type": "code",
      "source": [
        "#remove target and subject id so model dosen't use that to train\n",
        "X_train_omr = X_train_omr.drop(['subject_id','condition'], axis=1)\n",
        "X_test_omr = X_test_omr.drop(['subject_id','condition'], axis=1)\n",
        "X_train_labs = X_train_labs.drop(['subject_id','condition'], axis=1)\n",
        "X_test_labs = X_test_labs.drop(['subject_id','condition'], axis=1)"
      ],
      "metadata": {
        "id": "UFJMY8FsrlF0"
      },
      "execution_count": null,
      "outputs": []
    },
    {
      "cell_type": "code",
      "source": [
        "def evaluate_models(X_train, X_test, y_train, y_test):\n",
        "    #import models\n",
        "    #logistic regression\n",
        "    from sklearn.linear_model import LogisticRegression\n",
        "    #gradient boosting\n",
        "    from sklearn.ensemble import GradientBoostingRegressor\n",
        "    # decision tree\n",
        "    from sklearn.tree import DecisionTreeRegressor\n",
        "    from sklearn.metrics import average_precision_score# try different models\n",
        "\n",
        "    #list of models\n",
        "    models=[LogisticRegression(),GradientBoostingRegressor(),DecisionTreeRegressor()]\n",
        "    #empty list to store avg precision\n",
        "    avg_precisions = []\n",
        "\n",
        "    #run models\n",
        "    for model in models:\n",
        "\n",
        "      #fit the model\n",
        "      model.fit(X_train,y_train_labs)\n",
        "      y_pred = model.predict(X_test)\n",
        "      # Calculate the average precision of the model\n",
        "      avg_precision = average_precision_score(y_test, y_pred)\n",
        "\n",
        "      # Append the average precision to the list\n",
        "      avg_precisions.append(avg_precision)\n",
        "\n",
        "    # Create a dataframe of the average precision of each model\n",
        "    df_avg_precisions = pd.DataFrame({'Model': models, 'Average Precision': avg_precisions})\n",
        "\n",
        "    # Print the dataframe\n",
        "    print(df_avg_precisions)\n"
      ],
      "metadata": {
        "id": "fZnx0vXyXtrS"
      },
      "execution_count": null,
      "outputs": []
    },
    {
      "cell_type": "code",
      "source": [
        "#run model on labs\n",
        "evaluate_models(X_train_labs, X_test_labs, y_train_labs, y_test_labs)"
      ],
      "metadata": {
        "colab": {
          "base_uri": "https://localhost:8080/"
        },
        "id": "vNaSUH4K8kB_",
        "outputId": "bd4d6729-ff79-4e93-fe02-eec33ab1723d"
      },
      "execution_count": null,
      "outputs": [
        {
          "output_type": "stream",
          "name": "stdout",
          "text": [
            "                                               Model  Average Precision\n",
            "0                               LogisticRegression()           0.361179\n",
            "1  ([DecisionTreeRegressor(criterion='friedman_ms...           0.385699\n",
            "2                            DecisionTreeRegressor()           0.384679\n"
          ]
        }
      ]
    },
    {
      "cell_type": "code",
      "source": [
        "#run model on omr\n",
        "#since the last model took a very long time to run we were unable to finish running this in time for the project\n",
        "evaluate_models(X_train_omr, X_test_omr, y_train_omr, y_test_omr)"
      ],
      "metadata": {
        "colab": {
          "base_uri": "https://localhost:8080/",
          "height": 319
        },
        "id": "ZBrix8QMuFEF",
        "outputId": "99c894de-4e93-481f-9da6-eb4e43fece9b"
      },
      "execution_count": null,
      "outputs": [
        {
          "output_type": "error",
          "ename": "ValueError",
          "evalue": "Found input variables with inconsistent numbers of samples: [992610, 4484971]",
          "traceback": [
            "\u001b[0;31m---------------------------------------------------------------------------\u001b[0m",
            "\u001b[0;31mValueError\u001b[0m                                Traceback (most recent call last)",
            "\u001b[0;32m<ipython-input-114-3b5d1401d791>\u001b[0m in \u001b[0;36m<cell line: 2>\u001b[0;34m()\u001b[0m\n\u001b[1;32m      1\u001b[0m \u001b[0;31m#run model on omr\u001b[0m\u001b[0;34m\u001b[0m\u001b[0;34m\u001b[0m\u001b[0m\n\u001b[0;32m----> 2\u001b[0;31m \u001b[0mevaluate_models\u001b[0m\u001b[0;34m(\u001b[0m\u001b[0mX_train_omr\u001b[0m\u001b[0;34m,\u001b[0m \u001b[0mX_test_omr\u001b[0m\u001b[0;34m,\u001b[0m \u001b[0my_train_omr\u001b[0m\u001b[0;34m,\u001b[0m \u001b[0my_test_omr\u001b[0m\u001b[0;34m)\u001b[0m\u001b[0;34m\u001b[0m\u001b[0;34m\u001b[0m\u001b[0m\n\u001b[0m",
            "\u001b[0;32m<ipython-input-113-6850c79ebef1>\u001b[0m in \u001b[0;36mevaluate_models\u001b[0;34m(X_train, X_test, y_train, y_test)\u001b[0m\n\u001b[1;32m     18\u001b[0m \u001b[0;34m\u001b[0m\u001b[0m\n\u001b[1;32m     19\u001b[0m       \u001b[0;31m#fit the model\u001b[0m\u001b[0;34m\u001b[0m\u001b[0;34m\u001b[0m\u001b[0m\n\u001b[0;32m---> 20\u001b[0;31m       \u001b[0mmodel\u001b[0m\u001b[0;34m.\u001b[0m\u001b[0mfit\u001b[0m\u001b[0;34m(\u001b[0m\u001b[0mX_train\u001b[0m\u001b[0;34m,\u001b[0m\u001b[0my_train_labs\u001b[0m\u001b[0;34m)\u001b[0m\u001b[0;34m\u001b[0m\u001b[0;34m\u001b[0m\u001b[0m\n\u001b[0m\u001b[1;32m     21\u001b[0m       \u001b[0my_pred\u001b[0m \u001b[0;34m=\u001b[0m \u001b[0mmodel\u001b[0m\u001b[0;34m.\u001b[0m\u001b[0mpredict\u001b[0m\u001b[0;34m(\u001b[0m\u001b[0mX_test\u001b[0m\u001b[0;34m)\u001b[0m\u001b[0;34m\u001b[0m\u001b[0;34m\u001b[0m\u001b[0m\n\u001b[1;32m     22\u001b[0m       \u001b[0;31m# Calculate the average precision of the model\u001b[0m\u001b[0;34m\u001b[0m\u001b[0;34m\u001b[0m\u001b[0m\n",
            "\u001b[0;32m/usr/local/lib/python3.10/dist-packages/sklearn/linear_model/_logistic.py\u001b[0m in \u001b[0;36mfit\u001b[0;34m(self, X, y, sample_weight)\u001b[0m\n\u001b[1;32m   1194\u001b[0m             \u001b[0m_dtype\u001b[0m \u001b[0;34m=\u001b[0m \u001b[0;34m[\u001b[0m\u001b[0mnp\u001b[0m\u001b[0;34m.\u001b[0m\u001b[0mfloat64\u001b[0m\u001b[0;34m,\u001b[0m \u001b[0mnp\u001b[0m\u001b[0;34m.\u001b[0m\u001b[0mfloat32\u001b[0m\u001b[0;34m]\u001b[0m\u001b[0;34m\u001b[0m\u001b[0;34m\u001b[0m\u001b[0m\n\u001b[1;32m   1195\u001b[0m \u001b[0;34m\u001b[0m\u001b[0m\n\u001b[0;32m-> 1196\u001b[0;31m         X, y = self._validate_data(\n\u001b[0m\u001b[1;32m   1197\u001b[0m             \u001b[0mX\u001b[0m\u001b[0;34m,\u001b[0m\u001b[0;34m\u001b[0m\u001b[0;34m\u001b[0m\u001b[0m\n\u001b[1;32m   1198\u001b[0m             \u001b[0my\u001b[0m\u001b[0;34m,\u001b[0m\u001b[0;34m\u001b[0m\u001b[0;34m\u001b[0m\u001b[0m\n",
            "\u001b[0;32m/usr/local/lib/python3.10/dist-packages/sklearn/base.py\u001b[0m in \u001b[0;36m_validate_data\u001b[0;34m(self, X, y, reset, validate_separately, **check_params)\u001b[0m\n\u001b[1;32m    582\u001b[0m                 \u001b[0my\u001b[0m \u001b[0;34m=\u001b[0m \u001b[0mcheck_array\u001b[0m\u001b[0;34m(\u001b[0m\u001b[0my\u001b[0m\u001b[0;34m,\u001b[0m \u001b[0minput_name\u001b[0m\u001b[0;34m=\u001b[0m\u001b[0;34m\"y\"\u001b[0m\u001b[0;34m,\u001b[0m \u001b[0;34m**\u001b[0m\u001b[0mcheck_y_params\u001b[0m\u001b[0;34m)\u001b[0m\u001b[0;34m\u001b[0m\u001b[0;34m\u001b[0m\u001b[0m\n\u001b[1;32m    583\u001b[0m             \u001b[0;32melse\u001b[0m\u001b[0;34m:\u001b[0m\u001b[0;34m\u001b[0m\u001b[0;34m\u001b[0m\u001b[0m\n\u001b[0;32m--> 584\u001b[0;31m                 \u001b[0mX\u001b[0m\u001b[0;34m,\u001b[0m \u001b[0my\u001b[0m \u001b[0;34m=\u001b[0m \u001b[0mcheck_X_y\u001b[0m\u001b[0;34m(\u001b[0m\u001b[0mX\u001b[0m\u001b[0;34m,\u001b[0m \u001b[0my\u001b[0m\u001b[0;34m,\u001b[0m \u001b[0;34m**\u001b[0m\u001b[0mcheck_params\u001b[0m\u001b[0;34m)\u001b[0m\u001b[0;34m\u001b[0m\u001b[0;34m\u001b[0m\u001b[0m\n\u001b[0m\u001b[1;32m    585\u001b[0m             \u001b[0mout\u001b[0m \u001b[0;34m=\u001b[0m \u001b[0mX\u001b[0m\u001b[0;34m,\u001b[0m \u001b[0my\u001b[0m\u001b[0;34m\u001b[0m\u001b[0;34m\u001b[0m\u001b[0m\n\u001b[1;32m    586\u001b[0m \u001b[0;34m\u001b[0m\u001b[0m\n",
            "\u001b[0;32m/usr/local/lib/python3.10/dist-packages/sklearn/utils/validation.py\u001b[0m in \u001b[0;36mcheck_X_y\u001b[0;34m(X, y, accept_sparse, accept_large_sparse, dtype, order, copy, force_all_finite, ensure_2d, allow_nd, multi_output, ensure_min_samples, ensure_min_features, y_numeric, estimator)\u001b[0m\n\u001b[1;32m   1122\u001b[0m     \u001b[0my\u001b[0m \u001b[0;34m=\u001b[0m \u001b[0m_check_y\u001b[0m\u001b[0;34m(\u001b[0m\u001b[0my\u001b[0m\u001b[0;34m,\u001b[0m \u001b[0mmulti_output\u001b[0m\u001b[0;34m=\u001b[0m\u001b[0mmulti_output\u001b[0m\u001b[0;34m,\u001b[0m \u001b[0my_numeric\u001b[0m\u001b[0;34m=\u001b[0m\u001b[0my_numeric\u001b[0m\u001b[0;34m,\u001b[0m \u001b[0mestimator\u001b[0m\u001b[0;34m=\u001b[0m\u001b[0mestimator\u001b[0m\u001b[0;34m)\u001b[0m\u001b[0;34m\u001b[0m\u001b[0;34m\u001b[0m\u001b[0m\n\u001b[1;32m   1123\u001b[0m \u001b[0;34m\u001b[0m\u001b[0m\n\u001b[0;32m-> 1124\u001b[0;31m     \u001b[0mcheck_consistent_length\u001b[0m\u001b[0;34m(\u001b[0m\u001b[0mX\u001b[0m\u001b[0;34m,\u001b[0m \u001b[0my\u001b[0m\u001b[0;34m)\u001b[0m\u001b[0;34m\u001b[0m\u001b[0;34m\u001b[0m\u001b[0m\n\u001b[0m\u001b[1;32m   1125\u001b[0m \u001b[0;34m\u001b[0m\u001b[0m\n\u001b[1;32m   1126\u001b[0m     \u001b[0;32mreturn\u001b[0m \u001b[0mX\u001b[0m\u001b[0;34m,\u001b[0m \u001b[0my\u001b[0m\u001b[0;34m\u001b[0m\u001b[0;34m\u001b[0m\u001b[0m\n",
            "\u001b[0;32m/usr/local/lib/python3.10/dist-packages/sklearn/utils/validation.py\u001b[0m in \u001b[0;36mcheck_consistent_length\u001b[0;34m(*arrays)\u001b[0m\n\u001b[1;32m    395\u001b[0m     \u001b[0muniques\u001b[0m \u001b[0;34m=\u001b[0m \u001b[0mnp\u001b[0m\u001b[0;34m.\u001b[0m\u001b[0munique\u001b[0m\u001b[0;34m(\u001b[0m\u001b[0mlengths\u001b[0m\u001b[0;34m)\u001b[0m\u001b[0;34m\u001b[0m\u001b[0;34m\u001b[0m\u001b[0m\n\u001b[1;32m    396\u001b[0m     \u001b[0;32mif\u001b[0m \u001b[0mlen\u001b[0m\u001b[0;34m(\u001b[0m\u001b[0muniques\u001b[0m\u001b[0;34m)\u001b[0m \u001b[0;34m>\u001b[0m \u001b[0;36m1\u001b[0m\u001b[0;34m:\u001b[0m\u001b[0;34m\u001b[0m\u001b[0;34m\u001b[0m\u001b[0m\n\u001b[0;32m--> 397\u001b[0;31m         raise ValueError(\n\u001b[0m\u001b[1;32m    398\u001b[0m             \u001b[0;34m\"Found input variables with inconsistent numbers of samples: %r\"\u001b[0m\u001b[0;34m\u001b[0m\u001b[0;34m\u001b[0m\u001b[0m\n\u001b[1;32m    399\u001b[0m             \u001b[0;34m%\u001b[0m \u001b[0;34m[\u001b[0m\u001b[0mint\u001b[0m\u001b[0;34m(\u001b[0m\u001b[0ml\u001b[0m\u001b[0;34m)\u001b[0m \u001b[0;32mfor\u001b[0m \u001b[0ml\u001b[0m \u001b[0;32min\u001b[0m \u001b[0mlengths\u001b[0m\u001b[0;34m]\u001b[0m\u001b[0;34m\u001b[0m\u001b[0;34m\u001b[0m\u001b[0m\n",
            "\u001b[0;31mValueError\u001b[0m: Found input variables with inconsistent numbers of samples: [992610, 4484971]"
          ]
        }
      ]
    }
  ]
}
